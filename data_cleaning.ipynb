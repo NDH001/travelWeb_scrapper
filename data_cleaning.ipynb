{
 "cells": [
  {
   "cell_type": "code",
   "execution_count": 2,
   "metadata": {},
   "outputs": [],
   "source": [
    "from scrapper.helper import clean_up_n_save_new_csv\n",
    "from scrapper.helper import concat_n_del\n",
    "from scrapper.helper import add_uuid\n",
    "import pandas as pd\n",
    "import glob\n",
    "import os\n",
    "import uuid\n",
    "from requests_html import HTMLSession,user_agent\n",
    "import numpy as np\n",
    "from unidecode import unidecode\n",
    "from slugify import slugify"
   ]
  },
  {
   "cell_type": "code",
   "execution_count": 4,
   "metadata": {},
   "outputs": [
    {
     "name": "stdout",
     "output_type": "stream",
     "text": [
      "wo-shi-zhu\n"
     ]
    }
   ],
   "source": [
    "x = '我是猪'\n",
    "t = slugify(x)\n",
    "print(t)"
   ]
  },
  {
   "cell_type": "code",
   "execution_count": 40,
   "metadata": {},
   "outputs": [],
   "source": [
    "file = 'csv/sight_imgs_all.csv'"
   ]
  },
  {
   "cell_type": "code",
   "execution_count": 41,
   "metadata": {},
   "outputs": [],
   "source": [
    "df = pd.read_csv(file)"
   ]
  },
  {
   "cell_type": "code",
   "execution_count": 42,
   "metadata": {},
   "outputs": [],
   "source": [
    "df = df.drop(columns='slug')"
   ]
  },
  {
   "cell_type": "code",
   "execution_count": 43,
   "metadata": {},
   "outputs": [],
   "source": [
    "df.insert(len(df.columns),'slug',[unidecode(x) for x in df.names])"
   ]
  },
  {
   "cell_type": "code",
   "execution_count": 44,
   "metadata": {},
   "outputs": [
    {
     "data": {
      "text/html": [
       "<div>\n",
       "<style scoped>\n",
       "    .dataframe tbody tr th:only-of-type {\n",
       "        vertical-align: middle;\n",
       "    }\n",
       "\n",
       "    .dataframe tbody tr th {\n",
       "        vertical-align: top;\n",
       "    }\n",
       "\n",
       "    .dataframe thead th {\n",
       "        text-align: right;\n",
       "    }\n",
       "</style>\n",
       "<table border=\"1\" class=\"dataframe\">\n",
       "  <thead>\n",
       "    <tr style=\"text-align: right;\">\n",
       "      <th></th>\n",
       "      <th>id</th>\n",
       "      <th>names</th>\n",
       "      <th>addresses</th>\n",
       "      <th>links</th>\n",
       "      <th>popularity</th>\n",
       "      <th>scores</th>\n",
       "      <th>imgs</th>\n",
       "      <th>img_local</th>\n",
       "      <th>places</th>\n",
       "      <th>slug</th>\n",
       "    </tr>\n",
       "  </thead>\n",
       "  <tbody>\n",
       "    <tr>\n",
       "      <th>0</th>\n",
       "      <td>aebf69c6-2633-4a11-bd6c-dc71e13dfeae</td>\n",
       "      <td>东方明珠</td>\n",
       "      <td>上海市浦东新区陆家嘴世纪大道1号</td>\n",
       "      <td>https://you.ctrip.com/sight/shanghai2/762.html</td>\n",
       "      <td>9.0</td>\n",
       "      <td>4.7</td>\n",
       "      <td>https://dimg04.c-ctrip.com/images/010691200097...</td>\n",
       "      <td>010691200097uy8rk36FE_C_220_140.jpg</td>\n",
       "      <td>上海</td>\n",
       "      <td>Dong Fang Ming Zhu</td>\n",
       "    </tr>\n",
       "    <tr>\n",
       "      <th>1</th>\n",
       "      <td>735a4ace-6dbb-4536-96da-ab9fb60ea5c6</td>\n",
       "      <td>外滩</td>\n",
       "      <td>上海市黄浦区中山东一路（临黄浦江）</td>\n",
       "      <td>https://you.ctrip.com/sight/shanghai2/736.html</td>\n",
       "      <td>8.9</td>\n",
       "      <td>4.8</td>\n",
       "      <td>https://dimg04.c-ctrip.com/images/10040m000000...</td>\n",
       "      <td>10040m000000dht6p0F19_C_220_140.jpg</td>\n",
       "      <td>上海</td>\n",
       "      <td>Wai Tan</td>\n",
       "    </tr>\n",
       "    <tr>\n",
       "      <th>2</th>\n",
       "      <td>bfacf90a-b305-4226-8bf1-956c49926833</td>\n",
       "      <td>上海迪士尼度假区</td>\n",
       "      <td>上海市浦东新区川沙新镇黄赵路310号</td>\n",
       "      <td>https://you.ctrip.com/sight/shanghai2/1412255....</td>\n",
       "      <td>10.0</td>\n",
       "      <td>4.7</td>\n",
       "      <td>https://dimg04.c-ctrip.com/images/01055120008j...</td>\n",
       "      <td>01055120008ji2uc75021_C_220_140.jpg</td>\n",
       "      <td>上海</td>\n",
       "      <td>Shang Hai Di Shi Ni Du Jia Qu</td>\n",
       "    </tr>\n",
       "    <tr>\n",
       "      <th>3</th>\n",
       "      <td>8ad819d6-4b99-428a-9edc-212ca02711c4</td>\n",
       "      <td>上海之巅观光厅</td>\n",
       "      <td>上海市浦东新区银城中路501号近东泰路（上海中心大厦内）</td>\n",
       "      <td>https://you.ctrip.com/sight/shanghai2/2005734....</td>\n",
       "      <td>7.6</td>\n",
       "      <td>4.6</td>\n",
       "      <td>https://dimg04.c-ctrip.com/images/10070d000000...</td>\n",
       "      <td>10070d0000006wasz1009_C_220_140.jpg</td>\n",
       "      <td>上海</td>\n",
       "      <td>Shang Hai Zhi Dian Guan Guang Ting</td>\n",
       "    </tr>\n",
       "    <tr>\n",
       "      <th>4</th>\n",
       "      <td>5341d99d-ca44-4c07-8503-5aeb01d1e5dc</td>\n",
       "      <td>豫园</td>\n",
       "      <td>上海市黄浦区福佑路168号</td>\n",
       "      <td>https://you.ctrip.com/sight/shanghai2/740.html</td>\n",
       "      <td>8.5</td>\n",
       "      <td>4.7</td>\n",
       "      <td>https://dimg04.c-ctrip.com/images/1A0hhk124f84...</td>\n",
       "      <td>1A0hhk124f849nma8EBD7_C_220_140.jpg</td>\n",
       "      <td>上海</td>\n",
       "      <td>Yu Yuan</td>\n",
       "    </tr>\n",
       "  </tbody>\n",
       "</table>\n",
       "</div>"
      ],
      "text/plain": [
       "                                     id     names  \\\n",
       "0  aebf69c6-2633-4a11-bd6c-dc71e13dfeae      东方明珠   \n",
       "1  735a4ace-6dbb-4536-96da-ab9fb60ea5c6        外滩   \n",
       "2  bfacf90a-b305-4226-8bf1-956c49926833  上海迪士尼度假区   \n",
       "3  8ad819d6-4b99-428a-9edc-212ca02711c4   上海之巅观光厅   \n",
       "4  5341d99d-ca44-4c07-8503-5aeb01d1e5dc        豫园   \n",
       "\n",
       "                      addresses  \\\n",
       "0              上海市浦东新区陆家嘴世纪大道1号   \n",
       "1             上海市黄浦区中山东一路（临黄浦江）   \n",
       "2            上海市浦东新区川沙新镇黄赵路310号   \n",
       "3  上海市浦东新区银城中路501号近东泰路（上海中心大厦内）   \n",
       "4                 上海市黄浦区福佑路168号   \n",
       "\n",
       "                                               links  popularity  scores  \\\n",
       "0     https://you.ctrip.com/sight/shanghai2/762.html         9.0     4.7   \n",
       "1     https://you.ctrip.com/sight/shanghai2/736.html         8.9     4.8   \n",
       "2  https://you.ctrip.com/sight/shanghai2/1412255....        10.0     4.7   \n",
       "3  https://you.ctrip.com/sight/shanghai2/2005734....         7.6     4.6   \n",
       "4     https://you.ctrip.com/sight/shanghai2/740.html         8.5     4.7   \n",
       "\n",
       "                                                imgs  \\\n",
       "0  https://dimg04.c-ctrip.com/images/010691200097...   \n",
       "1  https://dimg04.c-ctrip.com/images/10040m000000...   \n",
       "2  https://dimg04.c-ctrip.com/images/01055120008j...   \n",
       "3  https://dimg04.c-ctrip.com/images/10070d000000...   \n",
       "4  https://dimg04.c-ctrip.com/images/1A0hhk124f84...   \n",
       "\n",
       "                             img_local places  \\\n",
       "0  010691200097uy8rk36FE_C_220_140.jpg     上海   \n",
       "1  10040m000000dht6p0F19_C_220_140.jpg     上海   \n",
       "2  01055120008ji2uc75021_C_220_140.jpg     上海   \n",
       "3  10070d0000006wasz1009_C_220_140.jpg     上海   \n",
       "4  1A0hhk124f849nma8EBD7_C_220_140.jpg     上海   \n",
       "\n",
       "                                  slug  \n",
       "0                  Dong Fang Ming Zhu   \n",
       "1                             Wai Tan   \n",
       "2       Shang Hai Di Shi Ni Du Jia Qu   \n",
       "3  Shang Hai Zhi Dian Guan Guang Ting   \n",
       "4                             Yu Yuan   "
      ]
     },
     "execution_count": 44,
     "metadata": {},
     "output_type": "execute_result"
    }
   ],
   "source": [
    "df.head()"
   ]
  },
  {
   "cell_type": "code",
   "execution_count": 45,
   "metadata": {},
   "outputs": [],
   "source": [
    "#df.to_csv(file,index=False)"
   ]
  }
 ],
 "metadata": {
  "kernelspec": {
   "display_name": "web",
   "language": "python",
   "name": "python3"
  },
  "language_info": {
   "codemirror_mode": {
    "name": "ipython",
    "version": 3
   },
   "file_extension": ".py",
   "mimetype": "text/x-python",
   "name": "python",
   "nbconvert_exporter": "python",
   "pygments_lexer": "ipython3",
   "version": "3.9.9"
  },
  "orig_nbformat": 4
 },
 "nbformat": 4,
 "nbformat_minor": 2
}
