{
 "cells": [
  {
   "cell_type": "code",
   "execution_count": 1,
   "metadata": {},
   "outputs": [],
   "source": [
    "from scrapper.helper import clean_up_n_save_new_csv\n",
    "import pandas as pd\n",
    "import glob\n",
    "import os"
   ]
  },
  {
   "cell_type": "code",
   "execution_count": 9,
   "metadata": {},
   "outputs": [
    {
     "name": "stdout",
     "output_type": "stream",
     "text": [
      "['csv/res_all.csv', 'csv/rest_all_amended.csv']\n"
     ]
    }
   ],
   "source": [
    "all_files = glob.glob(os.path.join('csv', \"res*.csv\"))\n",
    "print(all_files)\n",
    "df = pd.concat((pd.read_csv(f) for f in all_files), ignore_index=True)"
   ]
  },
  {
   "cell_type": "code",
   "execution_count": 11,
   "metadata": {},
   "outputs": [
    {
     "data": {
      "text/html": [
       "<div>\n",
       "<style scoped>\n",
       "    .dataframe tbody tr th:only-of-type {\n",
       "        vertical-align: middle;\n",
       "    }\n",
       "\n",
       "    .dataframe tbody tr th {\n",
       "        vertical-align: top;\n",
       "    }\n",
       "\n",
       "    .dataframe thead th {\n",
       "        text-align: right;\n",
       "    }\n",
       "</style>\n",
       "<table border=\"1\" class=\"dataframe\">\n",
       "  <thead>\n",
       "    <tr style=\"text-align: right;\">\n",
       "      <th></th>\n",
       "      <th>names</th>\n",
       "      <th>places</th>\n",
       "      <th>links</th>\n",
       "      <th>imgs</th>\n",
       "      <th>desc</th>\n",
       "      <th>address</th>\n",
       "      <th>address_link</th>\n",
       "    </tr>\n",
       "  </thead>\n",
       "  <tbody>\n",
       "    <tr>\n",
       "      <th>2407</th>\n",
       "      <td>糌粑</td>\n",
       "      <td>香格里拉</td>\n",
       "      <td>https://you.ctrip.com/fooditem/xianggelila106/...</td>\n",
       "      <td>https://dimg04.c-ctrip.com/images/tg/514/567/2...</td>\n",
       "      <td>糌粑是青稞或豌豆等农作物炒熟之后磨成的面粉。糌粑的食用方式很有特色，当地人一般是伴着酥油茶用...</td>\n",
       "      <td>五彩雪域藏餐馆</td>\n",
       "      <td>https://you.ctrip.com/food/xianggelila106/4926...</td>\n",
       "    </tr>\n",
       "    <tr>\n",
       "      <th>2408</th>\n",
       "      <td>奶渣</td>\n",
       "      <td>香格里拉</td>\n",
       "      <td>https://you.ctrip.com/fooditem/xianggelila106/...</td>\n",
       "      <td>https://dimg04.c-ctrip.com/images/tg/635/618/6...</td>\n",
       "      <td>奶渣是从牛奶中提炼制作而成的。发酵好的奶渣形状不一，味酸，白色中透着一点淡淡的奶黄色，很是好...</td>\n",
       "      <td>银同牦牛肉火锅</td>\n",
       "      <td>https://you.ctrip.com/food/xianggelila106/4548...</td>\n",
       "    </tr>\n",
       "    <tr>\n",
       "      <th>2409</th>\n",
       "      <td>琵琶肉</td>\n",
       "      <td>香格里拉</td>\n",
       "      <td>https://you.ctrip.com/fooditem/xianggelila106/...</td>\n",
       "      <td>https://dimg04.c-ctrip.com/images/tg/746/866/3...</td>\n",
       "      <td>香格里拉的琵琶肉是一种腌肉制品，其历史非常悠久。琵琶肉肉质油亮通透、色鲜味美，入口肥而不腻，...</td>\n",
       "      <td>吉萨达藏家特色土火锅</td>\n",
       "      <td>https://you.ctrip.com/food/xianggelila106/4926...</td>\n",
       "    </tr>\n",
       "    <tr>\n",
       "      <th>2410</th>\n",
       "      <td>酸奶</td>\n",
       "      <td>香格里拉</td>\n",
       "      <td>https://you.ctrip.com/fooditem/xianggelila106/...</td>\n",
       "      <td>https://dimg04.c-ctrip.com/images/tg/142/319/8...</td>\n",
       "      <td>香格里拉的酸奶是用提炼过酥油的奶制作的。手工制作出来的酸奶，奶皮微微泛黄、奶体呈乳白色，入口...</td>\n",
       "      <td>幸福味觉美食餐吧</td>\n",
       "      <td>https://you.ctrip.com/food/xianggelila106/4926...</td>\n",
       "    </tr>\n",
       "    <tr>\n",
       "      <th>2411</th>\n",
       "      <td>NaN</td>\n",
       "      <td>NaN</td>\n",
       "      <td>NaN</td>\n",
       "      <td>NaN</td>\n",
       "      <td>NaN</td>\n",
       "      <td>NaN</td>\n",
       "      <td>NaN</td>\n",
       "    </tr>\n",
       "  </tbody>\n",
       "</table>\n",
       "</div>"
      ],
      "text/plain": [
       "     names places                                              links  \\\n",
       "2407    糌粑   香格里拉  https://you.ctrip.com/fooditem/xianggelila106/...   \n",
       "2408    奶渣   香格里拉  https://you.ctrip.com/fooditem/xianggelila106/...   \n",
       "2409   琵琶肉   香格里拉  https://you.ctrip.com/fooditem/xianggelila106/...   \n",
       "2410    酸奶   香格里拉  https://you.ctrip.com/fooditem/xianggelila106/...   \n",
       "2411   NaN    NaN                                                NaN   \n",
       "\n",
       "                                                   imgs  \\\n",
       "2407  https://dimg04.c-ctrip.com/images/tg/514/567/2...   \n",
       "2408  https://dimg04.c-ctrip.com/images/tg/635/618/6...   \n",
       "2409  https://dimg04.c-ctrip.com/images/tg/746/866/3...   \n",
       "2410  https://dimg04.c-ctrip.com/images/tg/142/319/8...   \n",
       "2411                                                NaN   \n",
       "\n",
       "                                                   desc     address  \\\n",
       "2407  糌粑是青稞或豌豆等农作物炒熟之后磨成的面粉。糌粑的食用方式很有特色，当地人一般是伴着酥油茶用...     五彩雪域藏餐馆   \n",
       "2408  奶渣是从牛奶中提炼制作而成的。发酵好的奶渣形状不一，味酸，白色中透着一点淡淡的奶黄色，很是好...     银同牦牛肉火锅   \n",
       "2409  香格里拉的琵琶肉是一种腌肉制品，其历史非常悠久。琵琶肉肉质油亮通透、色鲜味美，入口肥而不腻，...  吉萨达藏家特色土火锅   \n",
       "2410  香格里拉的酸奶是用提炼过酥油的奶制作的。手工制作出来的酸奶，奶皮微微泛黄、奶体呈乳白色，入口...    幸福味觉美食餐吧   \n",
       "2411                                                NaN         NaN   \n",
       "\n",
       "                                           address_link  \n",
       "2407  https://you.ctrip.com/food/xianggelila106/4926...  \n",
       "2408  https://you.ctrip.com/food/xianggelila106/4548...  \n",
       "2409  https://you.ctrip.com/food/xianggelila106/4926...  \n",
       "2410  https://you.ctrip.com/food/xianggelila106/4926...  \n",
       "2411                                                NaN  "
      ]
     },
     "execution_count": 11,
     "metadata": {},
     "output_type": "execute_result"
    }
   ],
   "source": [
    "df.tail()"
   ]
  }
 ],
 "metadata": {
  "kernelspec": {
   "display_name": "web",
   "language": "python",
   "name": "python3"
  },
  "language_info": {
   "codemirror_mode": {
    "name": "ipython",
    "version": 3
   },
   "file_extension": ".py",
   "mimetype": "text/x-python",
   "name": "python",
   "nbconvert_exporter": "python",
   "pygments_lexer": "ipython3",
   "version": "3.9.9"
  },
  "orig_nbformat": 4
 },
 "nbformat": 4,
 "nbformat_minor": 2
}
