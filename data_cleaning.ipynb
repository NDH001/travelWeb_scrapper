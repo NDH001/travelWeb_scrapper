{
 "cells": [
  {
   "cell_type": "code",
   "execution_count": 6,
   "metadata": {},
   "outputs": [],
   "source": [
    "from scrapper.helper import clean_up_n_save_new_csv\n",
    "from scrapper.helper import concat_n_del\n",
    "from scrapper.helper import add_uuid\n",
    "import pandas as pd\n",
    "import glob\n",
    "import os\n",
    "import uuid\n",
    "from requests_html import HTMLSession,user_agent"
   ]
  },
  {
   "cell_type": "code",
   "execution_count": 7,
   "metadata": {},
   "outputs": [],
   "source": [
    "df = pd.read_csv('csv/cities_n_links.csv')"
   ]
  },
  {
   "cell_type": "code",
   "execution_count": 8,
   "metadata": {},
   "outputs": [],
   "source": [
    "df['img'] = [None for _ in range (len(df))]"
   ]
  },
  {
   "cell_type": "code",
   "execution_count": 9,
   "metadata": {},
   "outputs": [
    {
     "data": {
      "text/html": [
       "<div>\n",
       "<style scoped>\n",
       "    .dataframe tbody tr th:only-of-type {\n",
       "        vertical-align: middle;\n",
       "    }\n",
       "\n",
       "    .dataframe tbody tr th {\n",
       "        vertical-align: top;\n",
       "    }\n",
       "\n",
       "    .dataframe thead th {\n",
       "        text-align: right;\n",
       "    }\n",
       "</style>\n",
       "<table border=\"1\" class=\"dataframe\">\n",
       "  <thead>\n",
       "    <tr style=\"text-align: right;\">\n",
       "      <th></th>\n",
       "      <th>city</th>\n",
       "      <th>links</th>\n",
       "      <th>img</th>\n",
       "    </tr>\n",
       "  </thead>\n",
       "  <tbody>\n",
       "    <tr>\n",
       "      <th>0</th>\n",
       "      <td>上海</td>\n",
       "      <td>https://you.ctrip.com/place/shanghai2.html</td>\n",
       "      <td>None</td>\n",
       "    </tr>\n",
       "    <tr>\n",
       "      <th>1</th>\n",
       "      <td>北京</td>\n",
       "      <td>https://you.ctrip.com/place/beijing1.html</td>\n",
       "      <td>None</td>\n",
       "    </tr>\n",
       "    <tr>\n",
       "      <th>2</th>\n",
       "      <td>天津</td>\n",
       "      <td>https://you.ctrip.com/place/tianjin154.html</td>\n",
       "      <td>None</td>\n",
       "    </tr>\n",
       "    <tr>\n",
       "      <th>3</th>\n",
       "      <td>重庆</td>\n",
       "      <td>https://you.ctrip.com/place/chongqing158.html</td>\n",
       "      <td>None</td>\n",
       "    </tr>\n",
       "    <tr>\n",
       "      <th>4</th>\n",
       "      <td>香港</td>\n",
       "      <td>https://you.ctrip.com/place/hongkong38.html</td>\n",
       "      <td>None</td>\n",
       "    </tr>\n",
       "  </tbody>\n",
       "</table>\n",
       "</div>"
      ],
      "text/plain": [
       "  city                                          links   img\n",
       "0   上海     https://you.ctrip.com/place/shanghai2.html  None\n",
       "1   北京      https://you.ctrip.com/place/beijing1.html  None\n",
       "2   天津    https://you.ctrip.com/place/tianjin154.html  None\n",
       "3   重庆  https://you.ctrip.com/place/chongqing158.html  None\n",
       "4   香港    https://you.ctrip.com/place/hongkong38.html  None"
      ]
     },
     "execution_count": 9,
     "metadata": {},
     "output_type": "execute_result"
    }
   ],
   "source": [
    "df.head()"
   ]
  },
  {
   "cell_type": "code",
   "execution_count": 10,
   "metadata": {},
   "outputs": [
    {
     "name": "stdout",
     "output_type": "stream",
     "text": [
      "<HTML url='https://you.ctrip.com/place/shanghai2.html'>\n",
      "0 上海 <Element 'img' src='https://youimg1.c-ctrip.com/target/100e0h0000008rp39A12F_C_1180_462.jpg' class=('city-head-image',)>\n",
      "<HTML url='https://you.ctrip.com/place/beijing1.html'>\n",
      "1 北京 <Element 'img' src='https://youimg1.c-ctrip.com/target/100a0g00000087qb8E7CE_C_1180_462.jpg' class=('city-head-image',)>\n",
      "<HTML url='https://you.ctrip.com/place/tianjin154.html'>\n",
      "2 天津 <Element 'img' src='https://youimg1.c-ctrip.com/target/100n1c000001d5zaf9BCE_C_1180_462.jpg' class=('city-head-image',)>\n",
      "<HTML url='https://you.ctrip.com/place/chongqing158.html'>\n",
      "3 重庆 <Element 'img' src='https://youimg1.c-ctrip.com/target/100u1c000001dbc8s0A2E_C_1180_462.jpg' class=('city-head-image',)>\n",
      "<HTML url='https://you.ctrip.com/place/hongkong38.html'>\n"
     ]
    },
    {
     "ename": "KeyboardInterrupt",
     "evalue": "",
     "output_type": "error",
     "traceback": [
      "\u001b[0;31m---------------------------------------------------------------------------\u001b[0m",
      "\u001b[0;31mKeyboardInterrupt\u001b[0m                         Traceback (most recent call last)",
      "Cell \u001b[0;32mIn[10], line 5\u001b[0m\n\u001b[1;32m      3\u001b[0m r \u001b[39m=\u001b[39m session\u001b[39m.\u001b[39mget(df\u001b[39m.\u001b[39mlinks[i],headers\u001b[39m=\u001b[39m{\u001b[39m'\u001b[39m\u001b[39mUser-Agent\u001b[39m\u001b[39m'\u001b[39m:user_agent(\u001b[39m'\u001b[39m\u001b[39mchrome\u001b[39m\u001b[39m'\u001b[39m)})\n\u001b[1;32m      4\u001b[0m \u001b[39mprint\u001b[39m(r\u001b[39m.\u001b[39mhtml)\n\u001b[0;32m----> 5\u001b[0m img \u001b[39m=\u001b[39m r\u001b[39m.\u001b[39;49mhtml\u001b[39m.\u001b[39;49mfind(\u001b[39m'\u001b[39;49m\u001b[39m.city-head-image-container\u001b[39;49m\u001b[39m'\u001b[39;49m,first\u001b[39m=\u001b[39;49m\u001b[39mTrue\u001b[39;49;00m)\u001b[39m.\u001b[39mfind(\u001b[39m'\u001b[39m\u001b[39mimg\u001b[39m\u001b[39m'\u001b[39m,first\u001b[39m=\u001b[39m\u001b[39mTrue\u001b[39;00m)\n\u001b[1;32m      6\u001b[0m df\u001b[39m.\u001b[39mimg\u001b[39m.\u001b[39miloc[i]\u001b[39m=\u001b[39m\u001b[39mstr\u001b[39m(img\u001b[39m.\u001b[39mhtml)\u001b[39m.\u001b[39msplit(\u001b[39m'\u001b[39m\u001b[39m\"\u001b[39m\u001b[39m'\u001b[39m)[\u001b[39m1\u001b[39m]\n\u001b[1;32m      7\u001b[0m \u001b[39mprint\u001b[39m(i,df\u001b[39m.\u001b[39mcity\u001b[39m.\u001b[39miloc[i],img)\n",
      "File \u001b[0;32m~/Desktop/env/web/lib/python3.9/site-packages/requests_html.py:212\u001b[0m, in \u001b[0;36mBaseParser.find\u001b[0;34m(self, selector, containing, clean, first, _encoding)\u001b[0m\n\u001b[1;32m    207\u001b[0m     containing \u001b[39m=\u001b[39m [containing]\n\u001b[1;32m    209\u001b[0m encoding \u001b[39m=\u001b[39m _encoding \u001b[39mor\u001b[39;00m \u001b[39mself\u001b[39m\u001b[39m.\u001b[39mencoding\n\u001b[1;32m    210\u001b[0m elements \u001b[39m=\u001b[39m [\n\u001b[1;32m    211\u001b[0m     Element(element\u001b[39m=\u001b[39mfound, url\u001b[39m=\u001b[39m\u001b[39mself\u001b[39m\u001b[39m.\u001b[39murl, default_encoding\u001b[39m=\u001b[39mencoding)\n\u001b[0;32m--> 212\u001b[0m     \u001b[39mfor\u001b[39;00m found \u001b[39min\u001b[39;00m \u001b[39mself\u001b[39;49m\u001b[39m.\u001b[39;49mpq(selector)\n\u001b[1;32m    213\u001b[0m ]\n\u001b[1;32m    215\u001b[0m \u001b[39mif\u001b[39;00m containing:\n\u001b[1;32m    216\u001b[0m     elements_copy \u001b[39m=\u001b[39m elements\u001b[39m.\u001b[39mcopy()\n",
      "File \u001b[0;32m~/Desktop/env/web/lib/python3.9/site-packages/requests_html.py:149\u001b[0m, in \u001b[0;36mBaseParser.pq\u001b[0;34m(self)\u001b[0m\n\u001b[1;32m    145\u001b[0m \u001b[39m\u001b[39m\u001b[39m\"\"\"`PyQuery <https://pythonhosted.org/pyquery/>`_ representation\u001b[39;00m\n\u001b[1;32m    146\u001b[0m \u001b[39mof the :class:`Element <Element>` or :class:`HTML <HTML>`.\u001b[39;00m\n\u001b[1;32m    147\u001b[0m \u001b[39m\"\"\"\u001b[39;00m\n\u001b[1;32m    148\u001b[0m \u001b[39mif\u001b[39;00m \u001b[39mself\u001b[39m\u001b[39m.\u001b[39m_pq \u001b[39mis\u001b[39;00m \u001b[39mNone\u001b[39;00m:\n\u001b[0;32m--> 149\u001b[0m     \u001b[39mself\u001b[39m\u001b[39m.\u001b[39m_pq \u001b[39m=\u001b[39m PyQuery(\u001b[39mself\u001b[39;49m\u001b[39m.\u001b[39;49mlxml)\n\u001b[1;32m    151\u001b[0m \u001b[39mreturn\u001b[39;00m \u001b[39mself\u001b[39m\u001b[39m.\u001b[39m_pq\n",
      "File \u001b[0;32m~/Desktop/env/web/lib/python3.9/site-packages/requests_html.py:160\u001b[0m, in \u001b[0;36mBaseParser.lxml\u001b[0;34m(self)\u001b[0m\n\u001b[1;32m    158\u001b[0m \u001b[39mif\u001b[39;00m \u001b[39mself\u001b[39m\u001b[39m.\u001b[39m_lxml \u001b[39mis\u001b[39;00m \u001b[39mNone\u001b[39;00m:\n\u001b[1;32m    159\u001b[0m     \u001b[39mtry\u001b[39;00m:\n\u001b[0;32m--> 160\u001b[0m         \u001b[39mself\u001b[39m\u001b[39m.\u001b[39m_lxml \u001b[39m=\u001b[39m soup_parse(\u001b[39mself\u001b[39;49m\u001b[39m.\u001b[39;49mhtml, features\u001b[39m=\u001b[39;49m\u001b[39m'\u001b[39;49m\u001b[39mhtml.parser\u001b[39;49m\u001b[39m'\u001b[39;49m)\n\u001b[1;32m    161\u001b[0m     \u001b[39mexcept\u001b[39;00m \u001b[39mValueError\u001b[39;00m:\n\u001b[1;32m    162\u001b[0m         \u001b[39mself\u001b[39m\u001b[39m.\u001b[39m_lxml \u001b[39m=\u001b[39m lxml\u001b[39m.\u001b[39mhtml\u001b[39m.\u001b[39mfromstring(\u001b[39mself\u001b[39m\u001b[39m.\u001b[39mraw_html)\n",
      "File \u001b[0;32m~/Desktop/env/web/lib/python3.9/site-packages/lxml/html/soupparser.py:33\u001b[0m, in \u001b[0;36mfromstring\u001b[0;34m(data, beautifulsoup, makeelement, **bsargs)\u001b[0m\n\u001b[1;32m     21\u001b[0m \u001b[39mdef\u001b[39;00m \u001b[39mfromstring\u001b[39m(data, beautifulsoup\u001b[39m=\u001b[39m\u001b[39mNone\u001b[39;00m, makeelement\u001b[39m=\u001b[39m\u001b[39mNone\u001b[39;00m, \u001b[39m*\u001b[39m\u001b[39m*\u001b[39mbsargs):\n\u001b[1;32m     22\u001b[0m \u001b[39m    \u001b[39m\u001b[39m\"\"\"Parse a string of HTML data into an Element tree using the\u001b[39;00m\n\u001b[1;32m     23\u001b[0m \u001b[39m    BeautifulSoup parser.\u001b[39;00m\n\u001b[1;32m     24\u001b[0m \n\u001b[0;32m   (...)\u001b[0m\n\u001b[1;32m     31\u001b[0m \u001b[39m    used.\u001b[39;00m\n\u001b[1;32m     32\u001b[0m \u001b[39m    \"\"\"\u001b[39;00m\n\u001b[0;32m---> 33\u001b[0m     \u001b[39mreturn\u001b[39;00m _parse(data, beautifulsoup, makeelement, \u001b[39m*\u001b[39;49m\u001b[39m*\u001b[39;49mbsargs)\n",
      "File \u001b[0;32m~/Desktop/env/web/lib/python3.9/site-packages/lxml/html/soupparser.py:79\u001b[0m, in \u001b[0;36m_parse\u001b[0;34m(source, beautifulsoup, makeelement, **bsargs)\u001b[0m\n\u001b[1;32m     77\u001b[0m         bsargs[\u001b[39m'\u001b[39m\u001b[39mfeatures\u001b[39m\u001b[39m'\u001b[39m] \u001b[39m=\u001b[39m \u001b[39m'\u001b[39m\u001b[39mhtml.parser\u001b[39m\u001b[39m'\u001b[39m  \u001b[39m# use Python html parser\u001b[39;00m\n\u001b[1;32m     78\u001b[0m tree \u001b[39m=\u001b[39m beautifulsoup(source, \u001b[39m*\u001b[39m\u001b[39m*\u001b[39mbsargs)\n\u001b[0;32m---> 79\u001b[0m root \u001b[39m=\u001b[39m _convert_tree(tree, makeelement)\n\u001b[1;32m     80\u001b[0m \u001b[39m# from ET: wrap the document in a html root element, if necessary\u001b[39;00m\n\u001b[1;32m     81\u001b[0m \u001b[39mif\u001b[39;00m \u001b[39mlen\u001b[39m(root) \u001b[39m==\u001b[39m \u001b[39m1\u001b[39m \u001b[39mand\u001b[39;00m root[\u001b[39m0\u001b[39m]\u001b[39m.\u001b[39mtag \u001b[39m==\u001b[39m \u001b[39m\"\u001b[39m\u001b[39mhtml\u001b[39m\u001b[39m\"\u001b[39m:\n",
      "File \u001b[0;32m~/Desktop/env/web/lib/python3.9/site-packages/lxml/html/soupparser.py:152\u001b[0m, in \u001b[0;36m_convert_tree\u001b[0;34m(beautiful_soup_tree, makeelement)\u001b[0m\n\u001b[1;32m    149\u001b[0m convert_node \u001b[39m=\u001b[39m _init_node_converters(makeelement)\n\u001b[1;32m    151\u001b[0m \u001b[39m# Process pre_root\u001b[39;00m\n\u001b[0;32m--> 152\u001b[0m res_root \u001b[39m=\u001b[39m convert_node(html_root)\n\u001b[1;32m    153\u001b[0m prev \u001b[39m=\u001b[39m res_root\n\u001b[1;32m    154\u001b[0m \u001b[39mfor\u001b[39;00m e \u001b[39min\u001b[39;00m \u001b[39mreversed\u001b[39m(pre_root):\n",
      "File \u001b[0;32m~/Desktop/env/web/lib/python3.9/site-packages/lxml/html/soupparser.py:216\u001b[0m, in \u001b[0;36m_init_node_converters.<locals>.convert_node\u001b[0;34m(bs_node, parent)\u001b[0m\n\u001b[1;32m    214\u001b[0m \u001b[39mif\u001b[39;00m handler \u001b[39mis\u001b[39;00m \u001b[39mNone\u001b[39;00m:\n\u001b[1;32m    215\u001b[0m     \u001b[39mreturn\u001b[39;00m \u001b[39mNone\u001b[39;00m\n\u001b[0;32m--> 216\u001b[0m \u001b[39mreturn\u001b[39;00m handler(bs_node, parent)\n",
      "File \u001b[0;32m~/Desktop/env/web/lib/python3.9/site-packages/lxml/html/soupparser.py:255\u001b[0m, in \u001b[0;36m_init_node_converters.<locals>.convert_tag\u001b[0;34m(bs_node, parent)\u001b[0m\n\u001b[1;32m    253\u001b[0m \u001b[39melse\u001b[39;00m:\n\u001b[1;32m    254\u001b[0m     \u001b[39mif\u001b[39;00m handler \u001b[39mis\u001b[39;00m \u001b[39mnot\u001b[39;00m \u001b[39mNone\u001b[39;00m:\n\u001b[0;32m--> 255\u001b[0m         handler(child, res)\n\u001b[1;32m    256\u001b[0m     \u001b[39mcontinue\u001b[39;00m\n\u001b[1;32m    257\u001b[0m convert_node(child, res)\n",
      "File \u001b[0;32m~/Desktop/env/web/lib/python3.9/site-packages/lxml/html/soupparser.py:255\u001b[0m, in \u001b[0;36m_init_node_converters.<locals>.convert_tag\u001b[0;34m(bs_node, parent)\u001b[0m\n\u001b[1;32m    253\u001b[0m \u001b[39melse\u001b[39;00m:\n\u001b[1;32m    254\u001b[0m     \u001b[39mif\u001b[39;00m handler \u001b[39mis\u001b[39;00m \u001b[39mnot\u001b[39;00m \u001b[39mNone\u001b[39;00m:\n\u001b[0;32m--> 255\u001b[0m         handler(child, res)\n\u001b[1;32m    256\u001b[0m     \u001b[39mcontinue\u001b[39;00m\n\u001b[1;32m    257\u001b[0m convert_node(child, res)\n",
      "    \u001b[0;31m[... skipping similar frames: _init_node_converters.<locals>.convert_tag at line 255 (12 times)]\u001b[0m\n",
      "File \u001b[0;32m~/Desktop/env/web/lib/python3.9/site-packages/lxml/html/soupparser.py:255\u001b[0m, in \u001b[0;36m_init_node_converters.<locals>.convert_tag\u001b[0;34m(bs_node, parent)\u001b[0m\n\u001b[1;32m    253\u001b[0m \u001b[39melse\u001b[39;00m:\n\u001b[1;32m    254\u001b[0m     \u001b[39mif\u001b[39;00m handler \u001b[39mis\u001b[39;00m \u001b[39mnot\u001b[39;00m \u001b[39mNone\u001b[39;00m:\n\u001b[0;32m--> 255\u001b[0m         handler(child, res)\n\u001b[1;32m    256\u001b[0m     \u001b[39mcontinue\u001b[39;00m\n\u001b[1;32m    257\u001b[0m convert_node(child, res)\n",
      "File \u001b[0;32m~/Desktop/env/web/lib/python3.9/site-packages/lxml/html/soupparser.py:242\u001b[0m, in \u001b[0;36m_init_node_converters.<locals>.convert_tag\u001b[0;34m(bs_node, parent)\u001b[0m\n\u001b[1;32m    240\u001b[0m \u001b[39mif\u001b[39;00m parent \u001b[39mis\u001b[39;00m \u001b[39mnot\u001b[39;00m \u001b[39mNone\u001b[39;00m:\n\u001b[1;32m    241\u001b[0m     attribs \u001b[39m=\u001b[39m map_attrs(attrs) \u001b[39mif\u001b[39;00m attrs \u001b[39melse\u001b[39;00m \u001b[39mNone\u001b[39;00m\n\u001b[0;32m--> 242\u001b[0m     res \u001b[39m=\u001b[39m etree\u001b[39m.\u001b[39;49mSubElement(parent, bs_node\u001b[39m.\u001b[39;49mname, attrib\u001b[39m=\u001b[39;49mattribs)\n\u001b[1;32m    243\u001b[0m \u001b[39melse\u001b[39;00m:\n\u001b[1;32m    244\u001b[0m     attribs \u001b[39m=\u001b[39m map_attrs(attrs) \u001b[39mif\u001b[39;00m attrs \u001b[39melse\u001b[39;00m {}\n",
      "File \u001b[0;32msrc/lxml/etree.pyx:3156\u001b[0m, in \u001b[0;36mlxml.etree.SubElement\u001b[0;34m()\u001b[0m\n",
      "File \u001b[0;32msrc/lxml/apihelpers.pxi:199\u001b[0m, in \u001b[0;36mlxml.etree._makeSubElement\u001b[0;34m()\u001b[0m\n",
      "File \u001b[0;32msrc/lxml/apihelpers.pxi:195\u001b[0m, in \u001b[0;36mlxml.etree._makeSubElement\u001b[0;34m()\u001b[0m\n",
      "File \u001b[0;32msrc/lxml/etree.pyx:1630\u001b[0m, in \u001b[0;36mlxml.etree._elementFactory\u001b[0;34m()\u001b[0m\n",
      "File \u001b[0;32msrc/lxml/classlookup.pxi:403\u001b[0m, in \u001b[0;36mlxml.etree._parser_class_lookup\u001b[0;34m()\u001b[0m\n",
      "File \u001b[0;32msrc/lxml/classlookup.pxi:456\u001b[0m, in \u001b[0;36mlxml.etree._custom_class_lookup\u001b[0;34m()\u001b[0m\n",
      "File \u001b[0;32m~/Desktop/env/web/lib/python3.9/site-packages/lxml/html/__init__.py:733\u001b[0m, in \u001b[0;36mHtmlElementClassLookup.lookup\u001b[0;34m(self, node_type, document, namespace, name)\u001b[0m\n\u001b[1;32m    730\u001b[0m             classes[name] \u001b[39m=\u001b[39m \u001b[39mtype\u001b[39m(cur\u001b[39m.\u001b[39m\u001b[39m__name__\u001b[39m, bases, {})\n\u001b[1;32m    731\u001b[0m     \u001b[39mself\u001b[39m\u001b[39m.\u001b[39m_element_classes \u001b[39m=\u001b[39m classes\n\u001b[0;32m--> 733\u001b[0m \u001b[39mdef\u001b[39;00m \u001b[39mlookup\u001b[39m(\u001b[39mself\u001b[39m, node_type, document, namespace, name):\n\u001b[1;32m    734\u001b[0m     \u001b[39mif\u001b[39;00m node_type \u001b[39m==\u001b[39m \u001b[39m'\u001b[39m\u001b[39melement\u001b[39m\u001b[39m'\u001b[39m:\n\u001b[1;32m    735\u001b[0m         \u001b[39mreturn\u001b[39;00m \u001b[39mself\u001b[39m\u001b[39m.\u001b[39m_element_classes\u001b[39m.\u001b[39mget(name\u001b[39m.\u001b[39mlower(), HtmlElement)\n",
      "\u001b[0;31mKeyboardInterrupt\u001b[0m: "
     ]
    }
   ],
   "source": [
    "for i in range (len(df)):\n",
    "    session = HTMLSession()\n",
    "    r = session.get(df.links[i],headers={'User-Agent':user_agent('chrome')})\n",
    "    print(r.html)\n",
    "    img = r.html.find('.city-head-image-container',first=True).find('img',first=True)\n",
    "    df.img.iloc[i]=str(img.html).split('\"')[1]\n",
    "    print(i,df.city.iloc[i],img)\n",
    "    if i == 100:\n",
    "        df.to_csv(f'csv/{i}.csv',index=False)\n",
    "\n",
    "\n",
    "df.to_csv(f'csv/{i}.csv',index=False)"
   ]
  },
  {
   "cell_type": "code",
   "execution_count": null,
   "metadata": {},
   "outputs": [
    {
     "data": {
      "text/html": [
       "<div>\n",
       "<style scoped>\n",
       "    .dataframe tbody tr th:only-of-type {\n",
       "        vertical-align: middle;\n",
       "    }\n",
       "\n",
       "    .dataframe tbody tr th {\n",
       "        vertical-align: top;\n",
       "    }\n",
       "\n",
       "    .dataframe thead th {\n",
       "        text-align: right;\n",
       "    }\n",
       "</style>\n",
       "<table border=\"1\" class=\"dataframe\">\n",
       "  <thead>\n",
       "    <tr style=\"text-align: right;\">\n",
       "      <th></th>\n",
       "      <th>city</th>\n",
       "      <th>links</th>\n",
       "      <th>img</th>\n",
       "    </tr>\n",
       "  </thead>\n",
       "  <tbody>\n",
       "    <tr>\n",
       "      <th>0</th>\n",
       "      <td>上海</td>\n",
       "      <td>https://you.ctrip.com/place/shanghai2.html</td>\n",
       "      <td>https://youimg1.c-ctrip.com/target/100e0h00000...</td>\n",
       "    </tr>\n",
       "    <tr>\n",
       "      <th>1</th>\n",
       "      <td>北京</td>\n",
       "      <td>https://you.ctrip.com/place/beijing1.html</td>\n",
       "      <td>None</td>\n",
       "    </tr>\n",
       "    <tr>\n",
       "      <th>2</th>\n",
       "      <td>天津</td>\n",
       "      <td>https://you.ctrip.com/place/tianjin154.html</td>\n",
       "      <td>None</td>\n",
       "    </tr>\n",
       "    <tr>\n",
       "      <th>3</th>\n",
       "      <td>重庆</td>\n",
       "      <td>https://you.ctrip.com/place/chongqing158.html</td>\n",
       "      <td>None</td>\n",
       "    </tr>\n",
       "    <tr>\n",
       "      <th>4</th>\n",
       "      <td>香港</td>\n",
       "      <td>https://you.ctrip.com/place/hongkong38.html</td>\n",
       "      <td>None</td>\n",
       "    </tr>\n",
       "  </tbody>\n",
       "</table>\n",
       "</div>"
      ],
      "text/plain": [
       "  city                                          links  \\\n",
       "0   上海     https://you.ctrip.com/place/shanghai2.html   \n",
       "1   北京      https://you.ctrip.com/place/beijing1.html   \n",
       "2   天津    https://you.ctrip.com/place/tianjin154.html   \n",
       "3   重庆  https://you.ctrip.com/place/chongqing158.html   \n",
       "4   香港    https://you.ctrip.com/place/hongkong38.html   \n",
       "\n",
       "                                                 img  \n",
       "0  https://youimg1.c-ctrip.com/target/100e0h00000...  \n",
       "1                                               None  \n",
       "2                                               None  \n",
       "3                                               None  \n",
       "4                                               None  "
      ]
     },
     "execution_count": 37,
     "metadata": {},
     "output_type": "execute_result"
    }
   ],
   "source": [
    "df.head()"
   ]
  }
 ],
 "metadata": {
  "kernelspec": {
   "display_name": "web",
   "language": "python",
   "name": "python3"
  },
  "language_info": {
   "codemirror_mode": {
    "name": "ipython",
    "version": 3
   },
   "file_extension": ".py",
   "mimetype": "text/x-python",
   "name": "python",
   "nbconvert_exporter": "python",
   "pygments_lexer": "ipython3",
   "version": "3.9.9"
  },
  "orig_nbformat": 4
 },
 "nbformat": 4,
 "nbformat_minor": 2
}
