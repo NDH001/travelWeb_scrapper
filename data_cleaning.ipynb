{
 "cells": [
  {
   "cell_type": "code",
   "execution_count": 33,
   "metadata": {},
   "outputs": [],
   "source": [
    "from scrapper.helper import clean_up_n_save_new_csv\n",
    "from scrapper.helper import concat_n_del\n",
    "from scrapper.helper import add_uuid\n",
    "import pandas as pd\n",
    "import glob\n",
    "import os\n",
    "import uuid"
   ]
  },
  {
   "cell_type": "code",
   "execution_count": 34,
   "metadata": {},
   "outputs": [],
   "source": [
    "df = pd.read_csv('csv/restaurant_all.csv')"
   ]
  },
  {
   "cell_type": "code",
   "execution_count": 35,
   "metadata": {},
   "outputs": [
    {
     "data": {
      "text/plain": [
       "Index(['id', 'places', 'names', 'desc', 'address', 'links', 'address_link',\n",
       "       'imgs'],\n",
       "      dtype='object')"
      ]
     },
     "execution_count": 35,
     "metadata": {},
     "output_type": "execute_result"
    }
   ],
   "source": [
    "df.columns"
   ]
  },
  {
   "cell_type": "code",
   "execution_count": 36,
   "metadata": {},
   "outputs": [],
   "source": [
    "df = df [['id', 'names', 'desc', 'address', 'links', 'address_link',\n",
    "       'imgs', 'places']]"
   ]
  },
  {
   "cell_type": "code",
   "execution_count": 37,
   "metadata": {},
   "outputs": [
    {
     "data": {
      "text/html": [
       "<div>\n",
       "<style scoped>\n",
       "    .dataframe tbody tr th:only-of-type {\n",
       "        vertical-align: middle;\n",
       "    }\n",
       "\n",
       "    .dataframe tbody tr th {\n",
       "        vertical-align: top;\n",
       "    }\n",
       "\n",
       "    .dataframe thead th {\n",
       "        text-align: right;\n",
       "    }\n",
       "</style>\n",
       "<table border=\"1\" class=\"dataframe\">\n",
       "  <thead>\n",
       "    <tr style=\"text-align: right;\">\n",
       "      <th></th>\n",
       "      <th>id</th>\n",
       "      <th>names</th>\n",
       "      <th>desc</th>\n",
       "      <th>address</th>\n",
       "      <th>links</th>\n",
       "      <th>address_link</th>\n",
       "      <th>imgs</th>\n",
       "      <th>places</th>\n",
       "    </tr>\n",
       "  </thead>\n",
       "  <tbody>\n",
       "    <tr>\n",
       "      <th>0</th>\n",
       "      <td>c39f1590-353b-466c-9fb8-662d9a073ac6</td>\n",
       "      <td>生煎</td>\n",
       "      <td>生煎是上海的一种地方传统小吃，又叫生煎包或生煎馒头。传统生煎多来自街边小店，大铁锅煎制。面皮...</td>\n",
       "      <td>NaN</td>\n",
       "      <td>https://you.ctrip.com/fooditem/shanghai2/77560...</td>\n",
       "      <td>NaN</td>\n",
       "      <td>https://dimg04.c-ctrip.com/images/tg/282/336/1...</td>\n",
       "      <td>上海</td>\n",
       "    </tr>\n",
       "    <tr>\n",
       "      <th>1</th>\n",
       "      <td>c2848580-6569-449b-bcb3-1a5ce71caa2b</td>\n",
       "      <td>上海小笼包</td>\n",
       "      <td>小笼包对于上海人而言不仅是一种食物，更是一种生活态度，充分体现了上海人的精致和讲究。上海小笼...</td>\n",
       "      <td>上味馆南翔小笼(高平路店)</td>\n",
       "      <td>https://you.ctrip.com/fooditem/shanghai2/78103...</td>\n",
       "      <td>https://you.ctrip.com/food/shanghai2/11502817....</td>\n",
       "      <td>https://dimg04.c-ctrip.com/images/100608000000...</td>\n",
       "      <td>上海</td>\n",
       "    </tr>\n",
       "    <tr>\n",
       "      <th>2</th>\n",
       "      <td>3779543d-fdcf-4a81-a442-10cdaa351e60</td>\n",
       "      <td>葱油拌面</td>\n",
       "      <td>葱油拌面作为一道充满上海风情的海派面点，在全国享有名誉。葱油拌面的制作方法不难，材料也易准备...</td>\n",
       "      <td>王家沙点心店(南京西路总店)</td>\n",
       "      <td>https://you.ctrip.com/fooditem/shanghai2/77654...</td>\n",
       "      <td>https://you.ctrip.com/food/shanghai2/456230.html</td>\n",
       "      <td>https://dimg04.c-ctrip.com/images/tg/860/675/9...</td>\n",
       "      <td>上海</td>\n",
       "    </tr>\n",
       "    <tr>\n",
       "      <th>3</th>\n",
       "      <td>d02665d6-86a5-4ddd-9b81-a12e965e9a7a</td>\n",
       "      <td>青团</td>\n",
       "      <td>青团作为江南地区的传统特色小吃，是一种用艾草汁做成的糕点，因其颜色呈青色而得名。青团一般是用...</td>\n",
       "      <td>王家沙点心店(南京西路总店)</td>\n",
       "      <td>https://you.ctrip.com/fooditem/shanghai2/78071...</td>\n",
       "      <td>https://you.ctrip.com/food/shanghai2/456230.html</td>\n",
       "      <td>https://dimg04.c-ctrip.com/images/01057120009g...</td>\n",
       "      <td>上海</td>\n",
       "    </tr>\n",
       "    <tr>\n",
       "      <th>4</th>\n",
       "      <td>f046cab6-66fb-45b8-9598-05d94cdea03b</td>\n",
       "      <td>八宝辣酱</td>\n",
       "      <td>八宝辣酱，是上海知名特色菜之一。八宝辣酱采用了鸡丁、肉丁、笋丁、虾仁、花生米等原料，经豆瓣酱...</td>\n",
       "      <td>金时代顺风大酒店(金玉兰店)</td>\n",
       "      <td>https://you.ctrip.com/fooditem/shanghai2/77560...</td>\n",
       "      <td>https://you.ctrip.com/food/shanghai2/328190.html</td>\n",
       "      <td>https://dimg04.c-ctrip.com/images/tg/980/731/9...</td>\n",
       "      <td>上海</td>\n",
       "    </tr>\n",
       "  </tbody>\n",
       "</table>\n",
       "</div>"
      ],
      "text/plain": [
       "                                     id  names  \\\n",
       "0  c39f1590-353b-466c-9fb8-662d9a073ac6     生煎   \n",
       "1  c2848580-6569-449b-bcb3-1a5ce71caa2b  上海小笼包   \n",
       "2  3779543d-fdcf-4a81-a442-10cdaa351e60   葱油拌面   \n",
       "3  d02665d6-86a5-4ddd-9b81-a12e965e9a7a     青团   \n",
       "4  f046cab6-66fb-45b8-9598-05d94cdea03b   八宝辣酱   \n",
       "\n",
       "                                                desc         address  \\\n",
       "0  生煎是上海的一种地方传统小吃，又叫生煎包或生煎馒头。传统生煎多来自街边小店，大铁锅煎制。面皮...             NaN   \n",
       "1  小笼包对于上海人而言不仅是一种食物，更是一种生活态度，充分体现了上海人的精致和讲究。上海小笼...   上味馆南翔小笼(高平路店)   \n",
       "2  葱油拌面作为一道充满上海风情的海派面点，在全国享有名誉。葱油拌面的制作方法不难，材料也易准备...  王家沙点心店(南京西路总店)   \n",
       "3  青团作为江南地区的传统特色小吃，是一种用艾草汁做成的糕点，因其颜色呈青色而得名。青团一般是用...  王家沙点心店(南京西路总店)   \n",
       "4  八宝辣酱，是上海知名特色菜之一。八宝辣酱采用了鸡丁、肉丁、笋丁、虾仁、花生米等原料，经豆瓣酱...  金时代顺风大酒店(金玉兰店)   \n",
       "\n",
       "                                               links  \\\n",
       "0  https://you.ctrip.com/fooditem/shanghai2/77560...   \n",
       "1  https://you.ctrip.com/fooditem/shanghai2/78103...   \n",
       "2  https://you.ctrip.com/fooditem/shanghai2/77654...   \n",
       "3  https://you.ctrip.com/fooditem/shanghai2/78071...   \n",
       "4  https://you.ctrip.com/fooditem/shanghai2/77560...   \n",
       "\n",
       "                                        address_link  \\\n",
       "0                                                NaN   \n",
       "1  https://you.ctrip.com/food/shanghai2/11502817....   \n",
       "2   https://you.ctrip.com/food/shanghai2/456230.html   \n",
       "3   https://you.ctrip.com/food/shanghai2/456230.html   \n",
       "4   https://you.ctrip.com/food/shanghai2/328190.html   \n",
       "\n",
       "                                                imgs places  \n",
       "0  https://dimg04.c-ctrip.com/images/tg/282/336/1...     上海  \n",
       "1  https://dimg04.c-ctrip.com/images/100608000000...     上海  \n",
       "2  https://dimg04.c-ctrip.com/images/tg/860/675/9...     上海  \n",
       "3  https://dimg04.c-ctrip.com/images/01057120009g...     上海  \n",
       "4  https://dimg04.c-ctrip.com/images/tg/980/731/9...     上海  "
      ]
     },
     "execution_count": 37,
     "metadata": {},
     "output_type": "execute_result"
    }
   ],
   "source": [
    "df.head()"
   ]
  },
  {
   "cell_type": "code",
   "execution_count": 38,
   "metadata": {},
   "outputs": [],
   "source": [
    "df.to_csv('csv/restaurant_all.csv',index=False)"
   ]
  }
 ],
 "metadata": {
  "kernelspec": {
   "display_name": "web",
   "language": "python",
   "name": "python3"
  },
  "language_info": {
   "codemirror_mode": {
    "name": "ipython",
    "version": 3
   },
   "file_extension": ".py",
   "mimetype": "text/x-python",
   "name": "python",
   "nbconvert_exporter": "python",
   "pygments_lexer": "ipython3",
   "version": "3.9.9"
  },
  "orig_nbformat": 4
 },
 "nbformat": 4,
 "nbformat_minor": 2
}
