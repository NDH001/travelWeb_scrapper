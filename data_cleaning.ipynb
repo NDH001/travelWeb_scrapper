{
 "cells": [
  {
   "cell_type": "code",
   "execution_count": 31,
   "metadata": {},
   "outputs": [],
   "source": [
    "from scrapper.helper import clean_up_n_save_new_csv\n",
    "from scrapper.helper import concat_n_del\n",
    "from scrapper.helper import add_uuid\n",
    "import pandas as pd\n",
    "import glob\n",
    "import os\n",
    "import uuid\n",
    "from requests_html import HTMLSession,user_agent\n",
    "import numpy as np"
   ]
  },
  {
   "cell_type": "code",
   "execution_count": 32,
   "metadata": {},
   "outputs": [],
   "source": [
    "file = 'csv/_all.csv'"
   ]
  },
  {
   "cell_type": "code",
   "execution_count": 33,
   "metadata": {},
   "outputs": [],
   "source": [
    "df = pd.read_csv(file)"
   ]
  },
  {
   "cell_type": "code",
   "execution_count": 34,
   "metadata": {},
   "outputs": [],
   "source": [
    "df = df.drop(columns='slug')"
   ]
  },
  {
   "cell_type": "code",
   "execution_count": 35,
   "metadata": {},
   "outputs": [],
   "source": [
    "df.insert(len(df.columns),'slug',df.names)"
   ]
  },
  {
   "cell_type": "code",
   "execution_count": 36,
   "metadata": {},
   "outputs": [
    {
     "data": {
      "text/html": [
       "<div>\n",
       "<style scoped>\n",
       "    .dataframe tbody tr th:only-of-type {\n",
       "        vertical-align: middle;\n",
       "    }\n",
       "\n",
       "    .dataframe tbody tr th {\n",
       "        vertical-align: top;\n",
       "    }\n",
       "\n",
       "    .dataframe thead th {\n",
       "        text-align: right;\n",
       "    }\n",
       "</style>\n",
       "<table border=\"1\" class=\"dataframe\">\n",
       "  <thead>\n",
       "    <tr style=\"text-align: right;\">\n",
       "      <th></th>\n",
       "      <th>id</th>\n",
       "      <th>names</th>\n",
       "      <th>address</th>\n",
       "      <th>links</th>\n",
       "      <th>ranks</th>\n",
       "      <th>scores</th>\n",
       "      <th>imgs</th>\n",
       "      <th>img_local</th>\n",
       "      <th>places</th>\n",
       "      <th>slug</th>\n",
       "    </tr>\n",
       "  </thead>\n",
       "  <tbody>\n",
       "    <tr>\n",
       "      <th>0</th>\n",
       "      <td>ebc0ad46-338e-42cc-b578-929d2d9462f6</td>\n",
       "      <td>香格里拉手工艺品中心</td>\n",
       "      <td>香格里拉县独克宗古城金龙街1号(近月光广场)</td>\n",
       "      <td>https://you.ctrip.com/shopping/xianggelila106/...</td>\n",
       "      <td>1</td>\n",
       "      <td>4.6</td>\n",
       "      <td>https://dimg04.c-ctrip.com/images/10030f000000...</td>\n",
       "      <td>10030f0000007a1pw2F3E_C_220_140.jpg</td>\n",
       "      <td>香格里拉</td>\n",
       "      <td>香格里拉手工艺品中心</td>\n",
       "    </tr>\n",
       "    <tr>\n",
       "      <th>1</th>\n",
       "      <td>22bdc4ff-e23d-41ec-bcdd-7a7c71f106d1</td>\n",
       "      <td>卡卓刀</td>\n",
       "      <td>云南省迪庆藏族自治州香格里拉县长征大道卡卓刀</td>\n",
       "      <td>https://you.ctrip.com/shopping/xianggelila106/...</td>\n",
       "      <td>2</td>\n",
       "      <td>4.4</td>\n",
       "      <td>https://dimg04.c-ctrip.com/images/fd/tg/g1/M0B...</td>\n",
       "      <td>CghzfFW7TBSADCwmAAA_QkCyQxc009_C_220_140.jpg</td>\n",
       "      <td>香格里拉</td>\n",
       "      <td>卡卓刀</td>\n",
       "    </tr>\n",
       "    <tr>\n",
       "      <th>2</th>\n",
       "      <td>a6837cc9-3d03-4782-ab1d-a66a71d5ec24</td>\n",
       "      <td>香巴拉手工艺</td>\n",
       "      <td>香格里拉县建塘镇衮玛廊54号</td>\n",
       "      <td>https://you.ctrip.com/shopping/xianggelila106/...</td>\n",
       "      <td>3</td>\n",
       "      <td>4.5</td>\n",
       "      <td>https://dimg04.c-ctrip.com/images/100f0g000000...</td>\n",
       "      <td>100f0g0000007tkup3C25_C_220_140.jpg</td>\n",
       "      <td>香格里拉</td>\n",
       "      <td>香巴拉手工艺</td>\n",
       "    </tr>\n",
       "    <tr>\n",
       "      <th>3</th>\n",
       "      <td>ec3dd63a-705c-4607-9235-9374d045498c</td>\n",
       "      <td>天堂时光</td>\n",
       "      <td>香格里拉县 独克宗古城北门街40号扎史达吉酒店1楼(近四方街)</td>\n",
       "      <td>https://you.ctrip.com/shopping/xianggelila106/...</td>\n",
       "      <td>4</td>\n",
       "      <td>4.6</td>\n",
       "      <td>https://dimg04.c-ctrip.com/images/100b07000000...</td>\n",
       "      <td>100b070000002bhuy21B3_C_220_140.jpg</td>\n",
       "      <td>香格里拉</td>\n",
       "      <td>天堂时光</td>\n",
       "    </tr>\n",
       "    <tr>\n",
       "      <th>4</th>\n",
       "      <td>a034b445-d968-421c-a5cc-ce0dcec5e3aa</td>\n",
       "      <td>云藏雪域土特产商行</td>\n",
       "      <td>香格里拉县长征大道(近中国邮政，州林业局)</td>\n",
       "      <td>https://you.ctrip.com/shopping/xianggelila106/...</td>\n",
       "      <td>5</td>\n",
       "      <td>4.6</td>\n",
       "      <td>https://dimg04.c-ctrip.com/images/fd/tg/g1/M0B...</td>\n",
       "      <td>CghzfFW7TBSADCwmAAA_QkCyQxc009_C_220_140.jpg</td>\n",
       "      <td>香格里拉</td>\n",
       "      <td>云藏雪域土特产商行</td>\n",
       "    </tr>\n",
       "  </tbody>\n",
       "</table>\n",
       "</div>"
      ],
      "text/plain": [
       "                                     id       names  \\\n",
       "0  ebc0ad46-338e-42cc-b578-929d2d9462f6  香格里拉手工艺品中心   \n",
       "1  22bdc4ff-e23d-41ec-bcdd-7a7c71f106d1         卡卓刀   \n",
       "2  a6837cc9-3d03-4782-ab1d-a66a71d5ec24      香巴拉手工艺   \n",
       "3  ec3dd63a-705c-4607-9235-9374d045498c        天堂时光   \n",
       "4  a034b445-d968-421c-a5cc-ce0dcec5e3aa   云藏雪域土特产商行   \n",
       "\n",
       "                           address  \\\n",
       "0           香格里拉县独克宗古城金龙街1号(近月光广场)   \n",
       "1           云南省迪庆藏族自治州香格里拉县长征大道卡卓刀   \n",
       "2                   香格里拉县建塘镇衮玛廊54号   \n",
       "3  香格里拉县 独克宗古城北门街40号扎史达吉酒店1楼(近四方街)   \n",
       "4            香格里拉县长征大道(近中国邮政，州林业局)   \n",
       "\n",
       "                                               links  ranks  scores  \\\n",
       "0  https://you.ctrip.com/shopping/xianggelila106/...      1     4.6   \n",
       "1  https://you.ctrip.com/shopping/xianggelila106/...      2     4.4   \n",
       "2  https://you.ctrip.com/shopping/xianggelila106/...      3     4.5   \n",
       "3  https://you.ctrip.com/shopping/xianggelila106/...      4     4.6   \n",
       "4  https://you.ctrip.com/shopping/xianggelila106/...      5     4.6   \n",
       "\n",
       "                                                imgs  \\\n",
       "0  https://dimg04.c-ctrip.com/images/10030f000000...   \n",
       "1  https://dimg04.c-ctrip.com/images/fd/tg/g1/M0B...   \n",
       "2  https://dimg04.c-ctrip.com/images/100f0g000000...   \n",
       "3  https://dimg04.c-ctrip.com/images/100b07000000...   \n",
       "4  https://dimg04.c-ctrip.com/images/fd/tg/g1/M0B...   \n",
       "\n",
       "                                      img_local places        slug  \n",
       "0           10030f0000007a1pw2F3E_C_220_140.jpg   香格里拉  香格里拉手工艺品中心  \n",
       "1  CghzfFW7TBSADCwmAAA_QkCyQxc009_C_220_140.jpg   香格里拉         卡卓刀  \n",
       "2           100f0g0000007tkup3C25_C_220_140.jpg   香格里拉      香巴拉手工艺  \n",
       "3           100b070000002bhuy21B3_C_220_140.jpg   香格里拉        天堂时光  \n",
       "4  CghzfFW7TBSADCwmAAA_QkCyQxc009_C_220_140.jpg   香格里拉   云藏雪域土特产商行  "
      ]
     },
     "execution_count": 36,
     "metadata": {},
     "output_type": "execute_result"
    }
   ],
   "source": [
    "df.head()"
   ]
  },
  {
   "cell_type": "code",
   "execution_count": 37,
   "metadata": {},
   "outputs": [],
   "source": [
    "df.to_csv(file,index=False)"
   ]
  }
 ],
 "metadata": {
  "kernelspec": {
   "display_name": "web",
   "language": "python",
   "name": "python3"
  },
  "language_info": {
   "codemirror_mode": {
    "name": "ipython",
    "version": 3
   },
   "file_extension": ".py",
   "mimetype": "text/x-python",
   "name": "python",
   "nbconvert_exporter": "python",
   "pygments_lexer": "ipython3",
   "version": "3.9.9"
  },
  "orig_nbformat": 4
 },
 "nbformat": 4,
 "nbformat_minor": 2
}
