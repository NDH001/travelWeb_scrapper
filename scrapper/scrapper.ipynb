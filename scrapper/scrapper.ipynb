{
 "cells": [
  {
   "cell_type": "code",
   "execution_count": 2,
   "metadata": {},
   "outputs": [],
   "source": [
    "import requests\n",
    "from bs4 import BeautifulSoup as soup"
   ]
  },
  {
   "cell_type": "code",
   "execution_count": 3,
   "metadata": {},
   "outputs": [],
   "source": [
    "html = requests.get('https://you.ctrip.com/place/singapore53.html')"
   ]
  },
  {
   "cell_type": "code",
   "execution_count": 4,
   "metadata": {},
   "outputs": [
    {
     "name": "stdout",
     "output_type": "stream",
     "text": [
      "200\n"
     ]
    }
   ],
   "source": [
    "print(html.status_code)"
   ]
  },
  {
   "cell_type": "code",
   "execution_count": 5,
   "metadata": {},
   "outputs": [],
   "source": [
    "bsobj = soup(html.content,'lxml')"
   ]
  },
  {
   "cell_type": "code",
   "execution_count": 6,
   "metadata": {},
   "outputs": [
    {
     "name": "stdout",
     "output_type": "stream",
     "text": [
      "<div class=\"guide-main-item-top\" style=\"background-image:url(https://youimg1.c-ctrip.com/target/0101x120009u6yn4b4837_C_378_245.jpg)\"></div>\n",
      "<div class=\"guide-main-item-top\" style=\"background-image:url(https://youimg1.c-ctrip.com/target/0101r120009xabsxnDEEB_C_378_245.jpg)\"></div>\n",
      "<div class=\"guide-main-item-top\" style=\"background-image:url(https://youimg1.c-ctrip.com/target/100i13000000tvscvD5D0_C_378_245.jpg)\"></div>\n",
      "<div class=\"guide-main-item-top\" style=\"background-image:url(https://youimg1.c-ctrip.com/target/01014120009qr1w46328B_C_378_245.jpg)\"></div>\n",
      "<div class=\"guide-main-item-top\" style=\"background-image:url(https://youimg1.c-ctrip.com/target/0102s120009xaa23w5E7B_C_378_245.jpg)\"></div>\n",
      "<div class=\"guide-main-item-top\" style=\"background-image:url(https://youimg1.c-ctrip.com/target/0105v120009xe5rl497B0_C_378_245.jpg)\"></div>\n"
     ]
    }
   ],
   "source": [
    "links = []\n",
    "\n",
    "for review in bsobj.findAll('div',{'class':'guide-main-item-top'}):\n",
    "    print(review)"
   ]
  }
 ],
 "metadata": {
  "kernelspec": {
   "display_name": "web",
   "language": "python",
   "name": "python3"
  },
  "language_info": {
   "codemirror_mode": {
    "name": "ipython",
    "version": 3
   },
   "file_extension": ".py",
   "mimetype": "text/x-python",
   "name": "python",
   "nbconvert_exporter": "python",
   "pygments_lexer": "ipython3",
   "version": "3.9.6"
  },
  "orig_nbformat": 4
 },
 "nbformat": 4,
 "nbformat_minor": 2
}
