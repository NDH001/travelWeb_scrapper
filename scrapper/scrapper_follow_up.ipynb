{
 "cells": [
  {
   "cell_type": "code",
   "execution_count": 6,
   "metadata": {},
   "outputs": [],
   "source": [
    "import pandas as pd\n",
    "from requests_html import HTML,HTMLSession\n",
    "from helper_class import FuncOption "
   ]
  },
  {
   "cell_type": "code",
   "execution_count": 2,
   "metadata": {},
   "outputs": [],
   "source": [
    "df = pd.read_csv('cities_n_links.csv')"
   ]
  },
  {
   "cell_type": "code",
   "execution_count": 3,
   "metadata": {},
   "outputs": [],
   "source": [
    "session = HTMLSession()"
   ]
  },
  {
   "cell_type": "code",
   "execution_count": 7,
   "metadata": {},
   "outputs": [
    {
     "ename": "TypeError",
     "evalue": "transform() takes 1 positional argument but 2 were given",
     "output_type": "error",
     "traceback": [
      "\u001b[1;31m---------------------------------------------------------------------------\u001b[0m",
      "\u001b[1;31mTypeError\u001b[0m                                 Traceback (most recent call last)",
      "Cell \u001b[1;32mIn[7], line 2\u001b[0m\n\u001b[0;32m      1\u001b[0m \u001b[39m# gets all the necessary links according to the functionality\u001b[39;00m\n\u001b[1;32m----> 2\u001b[0m sight \u001b[39m=\u001b[39m FuncOption(df,\u001b[39m'\u001b[39;49m\u001b[39msight\u001b[39;49m\u001b[39m'\u001b[39;49m)\n",
      "File \u001b[1;32mc:\\Users\\ZhiJun\\Desktop\\travelWeb\\scrapper\\helper_class.py:7\u001b[0m, in \u001b[0;36mFuncOption.__init__\u001b[1;34m(self, df, func)\u001b[0m\n\u001b[0;32m      5\u001b[0m \u001b[39mdef\u001b[39;00m \u001b[39m__init__\u001b[39m(\u001b[39mself\u001b[39m, df, func) \u001b[39m-\u001b[39m\u001b[39m>\u001b[39m \u001b[39mNone\u001b[39;00m:\n\u001b[0;32m      6\u001b[0m     \u001b[39mself\u001b[39m\u001b[39m.\u001b[39mdf \u001b[39m=\u001b[39m df\u001b[39m.\u001b[39mcopy()\n\u001b[1;32m----> 7\u001b[0m     \u001b[39mself\u001b[39m\u001b[39m.\u001b[39mdf \u001b[39m=\u001b[39m \u001b[39mself\u001b[39;49m\u001b[39m.\u001b[39;49mtransform(\u001b[39mself\u001b[39;49m\u001b[39m.\u001b[39;49mdf)\n\u001b[0;32m      8\u001b[0m     \u001b[39mself\u001b[39m\u001b[39m.\u001b[39mfunc \u001b[39m=\u001b[39m func\n\u001b[0;32m      9\u001b[0m     \u001b[39mself\u001b[39m\u001b[39m.\u001b[39mname, \u001b[39mself\u001b[39m\u001b[39m.\u001b[39mhot_score, \u001b[39mself\u001b[39m\u001b[39m.\u001b[39mrating, \u001b[39mself\u001b[39m\u001b[39m.\u001b[39mlink, \u001b[39mself\u001b[39m\u001b[39m.\u001b[39mimg \u001b[39m=\u001b[39m [], [], [], [], []\n",
      "\u001b[1;31mTypeError\u001b[0m: transform() takes 1 positional argument but 2 were given"
     ]
    }
   ],
   "source": [
    "# gets all the necessary links according to the functionality\n",
    "sight = FuncOption(df,'sight')\n"
   ]
  },
  {
   "cell_type": "code",
   "execution_count": null,
   "metadata": {},
   "outputs": [
    {
     "name": "stdout",
     "output_type": "stream",
     "text": [
      "  city                                          links\n",
      "0   上海     https://you.ctrip.com/sight/shanghai2.html\n",
      "1   北京      https://you.ctrip.com/sight/beijing1.html\n",
      "2   天津    https://you.ctrip.com/sight/tianjin154.html\n",
      "3   重庆  https://you.ctrip.com/sight/chongqing158.html\n",
      "4   香港    https://you.ctrip.com/sight/hongkong38.html\n"
     ]
    }
   ],
   "source": [
    "print(sight.head())"
   ]
  },
  {
   "cell_type": "code",
   "execution_count": null,
   "metadata": {},
   "outputs": [
    {
     "name": "stdout",
     "output_type": "stream",
     "text": [
      "田子坊石库门 4.0 4.7 https://you.ctrip.com/sight/shanghai2/1416143.html https://dimg04.c-ctrip.com/images/010691200082f7uqrF5CD_C_220_140.jpg\n",
      "张爱玲故居 4.0 4.4 https://you.ctrip.com/sight/shanghai2/137253.html https://dimg03.c-ctrip.com/images/0104712000871oc3x6DB6_C_220_140.jpg\n",
      "外滩源 4.0 4.7 https://you.ctrip.com/sight/shanghai2/143705.html https://dimg04.c-ctrip.com/images/100u1f000001gq7nj2017_C_220_140.jpg\n",
      "百乐门 4.0 4.6 https://you.ctrip.com/sight/shanghai2/2120168.html https://dimg04.c-ctrip.com/images/1A0f14000000x1z89B6B2_C_220_140.jpg\n",
      "苏州河景观步廊 4.2 4.6 https://you.ctrip.com/sight/shanghai2/2028797.html https://dimg04.c-ctrip.com/images/1A0n1d000001egvaqF973_C_220_140.jpg\n",
      "ERA—时空之旅 4.1 4.7 https://you.ctrip.com/sight/shanghai2/1489752.html https://dimg04.c-ctrip.com/images/01025120008xrfrryD031_C_220_140.jpg\n",
      "鲁迅公园 4.0 4.5 https://you.ctrip.com/sight/shanghai2/3748.html https://dimg05.c-ctrip.com/images/100h0d0000006rk6197BC_C_220_140.jpg\n",
      "顾村公园自然谷恐龙乐园 4.7 4.4 https://you.ctrip.com/sight/shanghai2/2040054.html https://dimg04.c-ctrip.com/images/0105412000aqri8f1F764_C_220_140.jpg\n",
      "衡复历史文化风貌区 4.0 4.7 https://you.ctrip.com/sight/shanghai2/48436.html https://dimg04.c-ctrip.com/images/fd/tg/g2/M02/A7/B4/CghzgFWyEQWAClpsABpQKNgKyIQ848_C_220_140.jpg\n",
      "351米太空舱 4.0 4.5 https://you.ctrip.com/sight/shanghai2/5254369.html https://dimg04.c-ctrip.com/images/01064120005zur6b6B8E1_C_220_140.jpg\n",
      "https://you.ctrip.com/sight/shanghai2/s0-p19.html\n"
     ]
    }
   ],
   "source": [
    "r = session.get(sight['links'][0])\n",
    "# check and get the link of the next page\n",
    "next_page = list(r.html.find('.nextpage',first=True).absolute_links)[0]\n",
    "print(next_page)\n",
    "\n",
    "while next_page:\n",
    "    #find the list of items on the page\n",
    "    items = r.html.find('.list_mod2')\n",
    "    for item in items:\n",
    "        temp = item.find('dt',first = True)\n",
    "        hot_score = temp.find('.hot_score_number',first=True)\n",
    "        name = temp.find('a',first=True)\n",
    "        link = temp.find('a',first=True).links\n",
    "        img = item.find('.leftimg img',first=True)\n",
    "        rating = item.find('.score',first=True)\n",
    "        rating = rating.find('strong',first=True).text\n",
    "        img = str(img.html).split('\"')[1]\n",
    "        print(name.text,hot_score.text,rating,list(link)[0],img) \n",
    "\n",
    "    #reassign the next page value\n",
    "    r = session.get(next_page)\n",
    "    next_page = list(r.html.find('.nextpage',first=True).absolute_links)[0]\n",
    "    print(next_page)\n",
    "    break"
   ]
  },
  {
   "cell_type": "code",
   "execution_count": null,
   "metadata": {},
   "outputs": [],
   "source": []
  }
 ],
 "metadata": {
  "kernelspec": {
   "display_name": "web",
   "language": "python",
   "name": "python3"
  },
  "language_info": {
   "codemirror_mode": {
    "name": "ipython",
    "version": 3
   },
   "file_extension": ".py",
   "mimetype": "text/x-python",
   "name": "python",
   "nbconvert_exporter": "python",
   "pygments_lexer": "ipython3",
   "version": "3.9.6"
  },
  "orig_nbformat": 4
 },
 "nbformat": 4,
 "nbformat_minor": 2
}
