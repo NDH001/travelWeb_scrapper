{
 "cells": [
  {
   "cell_type": "code",
   "execution_count": 8,
   "metadata": {},
   "outputs": [],
   "source": [
    "import pandas as pd\n",
    "from scrapper_class import Scrap "
   ]
  },
  {
   "cell_type": "code",
   "execution_count": 9,
   "metadata": {},
   "outputs": [],
   "source": [
    "df = pd.read_csv(r'..\\csv\\cities_n_links.csv')"
   ]
  },
  {
   "cell_type": "code",
   "execution_count": 10,
   "metadata": {},
   "outputs": [],
   "source": [
    "sight = Scrap(df,'sight')\n"
   ]
  },
  {
   "cell_type": "code",
   "execution_count": 11,
   "metadata": {},
   "outputs": [
    {
     "name": "stdout",
     "output_type": "stream",
     "text": [
      "东方明珠 9.0 4.7 https://you.ctrip.com/sight/shanghai2/762.html https://dimg04.c-ctrip.com/images/010691200097uy8rk36FE_C_220_140.jpg\n",
      "外滩 8.9 4.8 https://you.ctrip.com/sight/shanghai2/736.html https://dimg04.c-ctrip.com/images/10040m000000dht6p0F19_C_220_140.jpg\n",
      "上海迪士尼度假区 10 4.7 https://you.ctrip.com/sight/shanghai2/1412255.html https://dimg04.c-ctrip.com/images/01055120008ji2uc75021_C_220_140.jpg\n",
      "上海之巅观光厅 7.5 4.6 https://you.ctrip.com/sight/shanghai2/2005734.html https://dimg04.c-ctrip.com/images/10070d0000006wasz1009_C_220_140.jpg\n",
      "豫园 8.5 4.7 https://you.ctrip.com/sight/shanghai2/740.html https://dimg04.c-ctrip.com/images/1A0hhk124f849nma8EBD7_C_220_140.jpg\n",
      "南京路步行街 8.0 4.7 https://you.ctrip.com/sight/shanghai2/3739.html https://dimg04.c-ctrip.com/images/0106u120008c3zeiy8417_C_220_140.jpg\n",
      "上海海洋水族馆 7.9 4.6 https://you.ctrip.com/sight/shanghai2/18722.html https://dimg04.c-ctrip.com/images/tg/357/014/064/84e04a5ad7774a59a5f88b5864499a1b_C_220_140.jpg\n",
      "上海科技馆 8.0 4.7 https://you.ctrip.com/sight/shanghai2/18308.html https://dimg04.c-ctrip.com/images/0105g1200087d6lidB450_C_220_140.jpg\n",
      "城隍庙旅游区 7.7 4.7 https://you.ctrip.com/sight/shanghai2/5691.html https://dimg04.c-ctrip.com/images/100l1f000001gqi1p4B80_C_220_140.jpg\n",
      "黄浦江游览（十六铺码头） 7.5 4.6 https://you.ctrip.com/sight/shanghai2/137059.html https://dimg04.c-ctrip.com/images/35091e000001ey01xBB09_C_220_140.jpg\n",
      "https://you.ctrip.com/sight/shanghai2/s0-p3.html\n",
      "北京环球度假区 10 4.5 https://you.ctrip.com/sight/beijing1/2045497.html https://dimg04.c-ctrip.com/images/0100i120008y7o60eD123_C_220_140.jpg\n",
      "故宫博物院 9.9 4.8 https://you.ctrip.com/sight/beijing1/229.html https://dimg04.c-ctrip.com/images/0100j1200046x94ebB936_C_220_140.jpg\n",
      "八达岭长城 9.2 4.7 https://you.ctrip.com/sight/beijing1/230.html https://dimg04.c-ctrip.com/images/100k0z000000n1uqq02C3_C_220_140.jpg\n",
      "颐和园 9.0 4.7 https://you.ctrip.com/sight/beijing1/231.html https://dimg04.c-ctrip.com/images/10061f000001gqux10383_C_220_140.jpg\n",
      "恭王府 8.8 4.7 https://you.ctrip.com/sight/beijing1/5174.html https://dimg04.c-ctrip.com/images/010261200087dxb2445A6_C_220_140.jpg\n",
      "中国国家博物馆 8.8 None https://you.ctrip.com/sight/beijing1/62722.html https://dimg04.c-ctrip.com/images/0104s1200099jozmm77CB_C_220_140.jpg\n",
      "天坛 8.7 4.6 https://you.ctrip.com/sight/beijing1/233.html https://dimg04.c-ctrip.com/images/10040h0000008s9n50143_C_220_140.jpg\n",
      "天安门广场 8.7 None https://you.ctrip.com/sight/beijing1/228.html https://dimg04.c-ctrip.com/images/0105e12000b1bccpi8DF1_C_220_140.jpg\n",
      "北京野生动物园 8.4 4.7 https://you.ctrip.com/sight/beijing1/107469.html https://dimg04.c-ctrip.com/images/10030c00000063u6rBDAE_C_220_140.jpg\n",
      "北京动物园 8.0 4.5 https://you.ctrip.com/sight/beijing1/5173.html https://dimg04.c-ctrip.com/images/1A0a180000015a3d9EE3E_C_220_140.jpg\n",
      "https://you.ctrip.com/sight/beijing1/s0-p3.html\n",
      "海河游船 6.7 4.7 https://you.ctrip.com/sight/tianjin154/112796.html https://dimg04.c-ctrip.com/images/01065120008hhm0cq7386_C_220_140.jpg\n",
      "天津之眼摩天轮 7.6 4.6 https://you.ctrip.com/sight/tianjin154/56364.html https://dimg04.c-ctrip.com/images/100b10000000omp6q72E0_C_220_140.jpg\n",
      "天津方特欢乐世界 7.4 4.8 https://you.ctrip.com/sight/tianjin154/1411705.html https://dimg04.c-ctrip.com/images/1lo3612000b6xzara8F32_C_220_140.jpg\n",
      "天津海昌极地海洋公园 7.0 4.5 https://you.ctrip.com/sight/tianjin154/112794.html https://dimg04.c-ctrip.com/images/0100s120008thlwwe8100_C_220_140.jpg\n",
      "五大道 7.1 4.6 https://you.ctrip.com/sight/tianjin154/56365.html https://dimg04.c-ctrip.com/images/100711000000rdolz3AEB_C_220_140.jpg\n",
      "瓷房子 6.9 4.2 https://you.ctrip.com/sight/tianjin154/64504.html https://dimg04.c-ctrip.com/images/0102x120008bhx6mnD653_C_220_140.jpg\n",
      "盘山 6.4 4.5 https://you.ctrip.com/sight/tianjin154/10451.html https://dimg04.c-ctrip.com/images/0106d1200087crt4a5E5E_C_220_140.jpg\n",
      "古文化街 6.9 4.5 https://you.ctrip.com/sight/tianjin154/10729.html https://dimg04.c-ctrip.com/images/1A031e000001fiw92980A_C_220_140.jpg\n",
      "意大利风情区 6.8 4.5 https://you.ctrip.com/sight/tianjin154/110319.html https://dimg04.c-ctrip.com/images/10071f000001h6wrp6201_C_220_140.jpg\n",
      "国家海洋博物馆 6.4 4.6 https://you.ctrip.com/sight/tianjin154/5382354.html https://dimg04.c-ctrip.com/images/0100912000aamnttfC673_C_220_140.jpg\n",
      "https://you.ctrip.com/sight/tianjin154/s0-p3.html\n"
     ]
    }
   ],
   "source": [
    "sight.scrap_info()"
   ]
  },
  {
   "cell_type": "code",
   "execution_count": null,
   "metadata": {},
   "outputs": [],
   "source": []
  }
 ],
 "metadata": {
  "kernelspec": {
   "display_name": "web",
   "language": "python",
   "name": "python3"
  },
  "language_info": {
   "codemirror_mode": {
    "name": "ipython",
    "version": 3
   },
   "file_extension": ".py",
   "mimetype": "text/x-python",
   "name": "python",
   "nbconvert_exporter": "python",
   "pygments_lexer": "ipython3",
   "version": "3.9.6"
  },
  "orig_nbformat": 4
 },
 "nbformat": 4,
 "nbformat_minor": 2
}
