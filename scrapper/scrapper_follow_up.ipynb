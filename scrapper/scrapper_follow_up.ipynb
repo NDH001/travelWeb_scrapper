{
 "cells": [
  {
   "cell_type": "code",
   "execution_count": 1,
   "metadata": {},
   "outputs": [],
   "source": [
    "import pandas as pd\n",
    "from scrapper_class import Scrap "
   ]
  },
  {
   "cell_type": "code",
   "execution_count": 2,
   "metadata": {},
   "outputs": [],
   "source": [
    "df = pd.read_csv(r'..\\csv\\cities_n_links.csv')"
   ]
  },
  {
   "cell_type": "code",
   "execution_count": 3,
   "metadata": {},
   "outputs": [],
   "source": [
    "shopping = Scrap(df,'sight',734,nums=10)"
   ]
  },
  {
   "cell_type": "code",
   "execution_count": 4,
   "metadata": {},
   "outputs": [
    {
     "name": "stdout",
     "output_type": "stream",
     "text": [
      "<HTML url='https://you.ctrip.com/sight/carlton2124776.html'>\n",
      "卡尔敦\n",
      "https://you.ctrip.com/sight/carlton2124776/s0-p2.html 0\n",
      "https://you.ctrip.com/sight/carlton2124776/s0-p3.html 10\n",
      "https://you.ctrip.com/sight/carlton2124776/s0-p4.html 20\n",
      "https://you.ctrip.com/sight/carlton2124776/s0-p5.html 30\n",
      "https://you.ctrip.com/sight/carlton2124776/s0-p6.html 40\n",
      "https://you.ctrip.com/sight/carlton2124776/s0-p7.html 50\n",
      "https://you.ctrip.com/sight/carlton2124776/s0-p8.html 60\n",
      "https://you.ctrip.com/sight/carlton2124776/s0-p9.html 70\n",
      "https://you.ctrip.com/sight/carlton2124776/s0-p10.html 80\n",
      "https://you.ctrip.com/sight/carlton2124776/s0-p11.html 90\n",
      "https://you.ctrip.com/sight/carlton2124776/s0-p12.html 100\n",
      "<HTML url='https://you.ctrip.com/sight/maloloisland1903271.html'>\n",
      "马洛洛岛\n",
      "https://you.ctrip.com/sight/1903271/s0-p2.html 100\n",
      "https://you.ctrip.com/sight/1903271/s0-p3.html 110\n",
      "https://you.ctrip.com/sight/1903271/s0-p4.html 120\n",
      "https://you.ctrip.com/sight/1903271/s0-p5.html 130\n",
      "https://you.ctrip.com/sight/1903271/s0-p6.html 140\n",
      "https://you.ctrip.com/sight/1903271/s0-p7.html 150\n",
      "https://you.ctrip.com/sight/1903271/s0-p8.html 160\n",
      "https://you.ctrip.com/sight/1903271/s0-p9.html 170\n",
      "https://you.ctrip.com/sight/1903271/s0-p10.html 180\n",
      "https://you.ctrip.com/sight/1903271/s0-p11.html 190\n",
      "https://you.ctrip.com/sight/1903271/s0-p12.html 200\n",
      "<HTML url='https://you.ctrip.com/sight/pyrmont2126870.html'>\n",
      "派蒙\n",
      "https://you.ctrip.com/sight/pyrmont2126870/s0-p2.html 200\n",
      "https://you.ctrip.com/sight/pyrmont2126870/s0-p3.html 210\n",
      "https://you.ctrip.com/sight/pyrmont2126870/s0-p4.html 220\n",
      "https://you.ctrip.com/sight/pyrmont2126870/s0-p5.html 230\n",
      "https://you.ctrip.com/sight/pyrmont2126870/s0-p6.html 240\n",
      "https://you.ctrip.com/sight/pyrmont2126870/s0-p7.html 250\n",
      "https://you.ctrip.com/sight/pyrmont2126870/s0-p8.html 260\n",
      "https://you.ctrip.com/sight/pyrmont2126870/s0-p9.html 270\n",
      "https://you.ctrip.com/sight/pyrmont2126870/s0-p10.html 280\n",
      "https://you.ctrip.com/sight/pyrmont2126870/s0-p11.html 290\n",
      "https://you.ctrip.com/sight/pyrmont2126870/s0-p12.html 300\n",
      "<HTML url='https://you.ctrip.com/sight/tahiti1354.html'>\n",
      "大溪地\n",
      "https://you.ctrip.com/sight/tahiti1354/s0-p2.html 300\n",
      "https://you.ctrip.com/sight/tahiti1354/s0-p3.html 310\n",
      "https://you.ctrip.com/sight/tahiti1354/s0-p4.html 320\n",
      "https://you.ctrip.com/sight/tahiti1354/s0-p5.html 330\n",
      "https://you.ctrip.com/sight/tahiti1354/s0-p6.html 340\n",
      "https://you.ctrip.com/sight/tahiti1354/s0-p7.html 350\n",
      "https://you.ctrip.com/sight/tahiti1354/s0-p8.html 360\n",
      "https://you.ctrip.com/sight/tahiti1354/s0-p9.html 370\n",
      "https://you.ctrip.com/sight/tahiti1354/s0-p10.html 380\n",
      "https://you.ctrip.com/sight/tahiti1354/s0-p11.html 390\n",
      "https://you.ctrip.com/sight/tahiti1354/s0-p12.html 400\n",
      "<HTML url='https://you.ctrip.com/sight/darwin325.html'>\n",
      "达尔文\n",
      "https://you.ctrip.com/sight/darwin325/s0-p2.html 400\n",
      "https://you.ctrip.com/sight/darwin325/s0-p3.html 410\n",
      "https://you.ctrip.com/sight/darwin325/s0-p4.html 420\n",
      "https://you.ctrip.com/sight/darwin325/s0-p5.html 430\n",
      "https://you.ctrip.com/sight/darwin325/s0-p6.html 440\n",
      "https://you.ctrip.com/sight/darwin325/s0-p7.html 450\n",
      "https://you.ctrip.com/sight/darwin325/s0-p8.html 460\n",
      "https://you.ctrip.com/sight/darwin325/s0-p9.html 470\n",
      "https://you.ctrip.com/sight/darwin325/s0-p10.html 480\n",
      "https://you.ctrip.com/sight/darwin325/s0-p11.html 490\n",
      "https://you.ctrip.com/sight/darwin325/s0-p12.html 500\n",
      "<HTML url='https://you.ctrip.com/sight/laketekapo57959.html'>\n",
      "特卡波湖\n",
      "https://you.ctrip.com/sight/laketekapo57959/s0-p2.html 500\n",
      "https://you.ctrip.com/sight/laketekapo57959/s0-p3.html 510\n",
      "https://you.ctrip.com/sight/laketekapo57959/s0-p4.html 520\n",
      "https://you.ctrip.com/sight/laketekapo57959/s0-p5.html 530\n",
      "https://you.ctrip.com/sight/laketekapo57959/s0-p6.html 540\n",
      "https://you.ctrip.com/sight/laketekapo57959/s0-p7.html 550\n",
      "https://you.ctrip.com/sight/laketekapo57959/s0-p8.html 560\n",
      "https://you.ctrip.com/sight/laketekapo57959/s0-p9.html 570\n",
      "https://you.ctrip.com/sight/laketekapo57959/s0-p10.html 580\n",
      "https://you.ctrip.com/sight/laketekapo57959/s0-p11.html 590\n",
      "https://you.ctrip.com/sight/laketekapo57959/s0-p12.html 600\n",
      "<HTML url='https://you.ctrip.com/sight/surryhills2126966.html'>\n",
      "莎莉山\n",
      "https://you.ctrip.com/sight/2126966/s0-p2.html 600\n",
      "https://you.ctrip.com/sight/2126966/s0-p3.html 610\n",
      "https://you.ctrip.com/sight/2126966/s0-p4.html 620\n",
      "https://you.ctrip.com/sight/2126966/s0-p5.html 630\n",
      "https://you.ctrip.com/sight/2126966/s0-p6.html 640\n",
      "https://you.ctrip.com/sight/2126966/s0-p7.html 650\n",
      "https://you.ctrip.com/sight/2126966/s0-p8.html 660\n",
      "https://you.ctrip.com/sight/2126966/s0-p9.html 670\n",
      "https://you.ctrip.com/sight/2126966/s0-p10.html 680\n",
      "https://you.ctrip.com/sight/2126966/s0-p11.html 690\n",
      "https://you.ctrip.com/sight/2126966/s0-p12.html 700\n",
      "added\n"
     ]
    }
   ],
   "source": [
    "shopping.scrap_info()"
   ]
  }
 ],
 "metadata": {
  "kernelspec": {
   "display_name": "web",
   "language": "python",
   "name": "python3"
  },
  "language_info": {
   "codemirror_mode": {
    "name": "ipython",
    "version": 3
   },
   "file_extension": ".py",
   "mimetype": "text/x-python",
   "name": "python",
   "nbconvert_exporter": "python",
   "pygments_lexer": "ipython3",
   "version": "3.9.6"
  },
  "orig_nbformat": 4
 },
 "nbformat": 4,
 "nbformat_minor": 2
}
