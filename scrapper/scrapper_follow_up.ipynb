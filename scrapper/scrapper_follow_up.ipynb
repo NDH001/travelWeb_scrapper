{
 "cells": [
  {
   "cell_type": "code",
   "execution_count": 1,
   "metadata": {},
   "outputs": [],
   "source": [
    "import pandas as pd\n",
    "from scrapper_class import Scrap "
   ]
  },
  {
   "cell_type": "code",
   "execution_count": 2,
   "metadata": {},
   "outputs": [],
   "source": [
    "df = pd.read_csv(r'..\\csv\\cities_n_links.csv')"
   ]
  },
  {
   "cell_type": "code",
   "execution_count": 3,
   "metadata": {},
   "outputs": [],
   "source": [
    "sight = Scrap(df,'sight',nums=2)\n"
   ]
  },
  {
   "cell_type": "code",
   "execution_count": 4,
   "metadata": {},
   "outputs": [
    {
     "name": "stdout",
     "output_type": "stream",
     "text": [
      "https://you.ctrip.com/sight/shanghai2/s0-p3.html 10\n",
      "https://you.ctrip.com/sight/shanghai2/s0-p4.html 20\n",
      "https://you.ctrip.com/sight/shanghai2/s0-p5.html 30\n",
      "https://you.ctrip.com/sight/shanghai2/s0-p6.html 40\n",
      "https://you.ctrip.com/sight/shanghai2/s0-p7.html 50\n",
      "https://you.ctrip.com/sight/shanghai2/s0-p8.html 60\n",
      "https://you.ctrip.com/sight/beijing1/s0-p3.html 70\n",
      "https://you.ctrip.com/sight/beijing1/s0-p4.html 80\n",
      "https://you.ctrip.com/sight/beijing1/s0-p5.html 90\n",
      "https://you.ctrip.com/sight/beijing1/s0-p6.html 100\n",
      "https://you.ctrip.com/sight/beijing1/s0-p7.html 110\n",
      "https://you.ctrip.com/sight/beijing1/s0-p8.html 120\n"
     ]
    }
   ],
   "source": [
    "sight.scrap_info()"
   ]
  },
  {
   "cell_type": "code",
   "execution_count": 5,
   "metadata": {},
   "outputs": [],
   "source": [
    "df = pd.DataFrame({'names':sight.names,'popularity':sight.popularities,'scores':sight.scores,'links':sight.scores,'imgs':sight.imgs})"
   ]
  },
  {
   "cell_type": "code",
   "execution_count": 6,
   "metadata": {},
   "outputs": [
    {
     "data": {
      "text/html": [
       "<div>\n",
       "<style scoped>\n",
       "    .dataframe tbody tr th:only-of-type {\n",
       "        vertical-align: middle;\n",
       "    }\n",
       "\n",
       "    .dataframe tbody tr th {\n",
       "        vertical-align: top;\n",
       "    }\n",
       "\n",
       "    .dataframe thead th {\n",
       "        text-align: right;\n",
       "    }\n",
       "</style>\n",
       "<table border=\"1\" class=\"dataframe\">\n",
       "  <thead>\n",
       "    <tr style=\"text-align: right;\">\n",
       "      <th></th>\n",
       "      <th>names</th>\n",
       "      <th>popularity</th>\n",
       "      <th>scores</th>\n",
       "      <th>links</th>\n",
       "      <th>imgs</th>\n",
       "    </tr>\n",
       "  </thead>\n",
       "  <tbody>\n",
       "    <tr>\n",
       "      <th>0</th>\n",
       "      <td>东方明珠</td>\n",
       "      <td>9.0</td>\n",
       "      <td>4.7</td>\n",
       "      <td>4.7</td>\n",
       "      <td>https://dimg04.c-ctrip.com/images/010691200097...</td>\n",
       "    </tr>\n",
       "    <tr>\n",
       "      <th>1</th>\n",
       "      <td>外滩</td>\n",
       "      <td>8.9</td>\n",
       "      <td>4.8</td>\n",
       "      <td>4.8</td>\n",
       "      <td>https://dimg04.c-ctrip.com/images/10040m000000...</td>\n",
       "    </tr>\n",
       "    <tr>\n",
       "      <th>2</th>\n",
       "      <td>上海迪士尼度假区</td>\n",
       "      <td>10</td>\n",
       "      <td>4.7</td>\n",
       "      <td>4.7</td>\n",
       "      <td>https://dimg04.c-ctrip.com/images/01055120008j...</td>\n",
       "    </tr>\n",
       "    <tr>\n",
       "      <th>3</th>\n",
       "      <td>上海之巅观光厅</td>\n",
       "      <td>7.5</td>\n",
       "      <td>4.6</td>\n",
       "      <td>4.6</td>\n",
       "      <td>https://dimg04.c-ctrip.com/images/10070d000000...</td>\n",
       "    </tr>\n",
       "    <tr>\n",
       "      <th>4</th>\n",
       "      <td>豫园</td>\n",
       "      <td>8.5</td>\n",
       "      <td>4.7</td>\n",
       "      <td>4.7</td>\n",
       "      <td>https://dimg04.c-ctrip.com/images/1A0hhk124f84...</td>\n",
       "    </tr>\n",
       "  </tbody>\n",
       "</table>\n",
       "</div>"
      ],
      "text/plain": [
       "      names popularity scores links  \\\n",
       "0      东方明珠        9.0    4.7   4.7   \n",
       "1        外滩        8.9    4.8   4.8   \n",
       "2  上海迪士尼度假区         10    4.7   4.7   \n",
       "3   上海之巅观光厅        7.5    4.6   4.6   \n",
       "4        豫园        8.5    4.7   4.7   \n",
       "\n",
       "                                                imgs  \n",
       "0  https://dimg04.c-ctrip.com/images/010691200097...  \n",
       "1  https://dimg04.c-ctrip.com/images/10040m000000...  \n",
       "2  https://dimg04.c-ctrip.com/images/01055120008j...  \n",
       "3  https://dimg04.c-ctrip.com/images/10070d000000...  \n",
       "4  https://dimg04.c-ctrip.com/images/1A0hhk124f84...  "
      ]
     },
     "execution_count": 6,
     "metadata": {},
     "output_type": "execute_result"
    }
   ],
   "source": [
    "df.head()"
   ]
  },
  {
   "cell_type": "code",
   "execution_count": 7,
   "metadata": {},
   "outputs": [
    {
     "data": {
      "text/html": [
       "<div>\n",
       "<style scoped>\n",
       "    .dataframe tbody tr th:only-of-type {\n",
       "        vertical-align: middle;\n",
       "    }\n",
       "\n",
       "    .dataframe tbody tr th {\n",
       "        vertical-align: top;\n",
       "    }\n",
       "\n",
       "    .dataframe thead th {\n",
       "        text-align: right;\n",
       "    }\n",
       "</style>\n",
       "<table border=\"1\" class=\"dataframe\">\n",
       "  <thead>\n",
       "    <tr style=\"text-align: right;\">\n",
       "      <th></th>\n",
       "      <th>names</th>\n",
       "      <th>popularity</th>\n",
       "      <th>scores</th>\n",
       "      <th>links</th>\n",
       "      <th>imgs</th>\n",
       "    </tr>\n",
       "  </thead>\n",
       "  <tbody>\n",
       "    <tr>\n",
       "      <th>115</th>\n",
       "      <td>南山滑雪场</td>\n",
       "      <td>6.5</td>\n",
       "      <td>4.7</td>\n",
       "      <td>4.7</td>\n",
       "      <td>https://dimg04.c-ctrip.com/images/100f0z000000...</td>\n",
       "    </tr>\n",
       "    <tr>\n",
       "      <th>116</th>\n",
       "      <td>潭柘寺</td>\n",
       "      <td>6.4</td>\n",
       "      <td>4.7</td>\n",
       "      <td>4.7</td>\n",
       "      <td>https://dimg04.c-ctrip.com/images/100b1f000001...</td>\n",
       "    </tr>\n",
       "    <tr>\n",
       "      <th>117</th>\n",
       "      <td>红砖美术馆</td>\n",
       "      <td>6.3</td>\n",
       "      <td>4.3</td>\n",
       "      <td>4.3</td>\n",
       "      <td>https://dimg04.c-ctrip.com/images/100218000001...</td>\n",
       "    </tr>\n",
       "    <tr>\n",
       "      <th>118</th>\n",
       "      <td>八大处公园</td>\n",
       "      <td>6.3</td>\n",
       "      <td>4.7</td>\n",
       "      <td>4.7</td>\n",
       "      <td>https://dimg04.c-ctrip.com/images/100b1f000001...</td>\n",
       "    </tr>\n",
       "    <tr>\n",
       "      <th>119</th>\n",
       "      <td>国家图书馆</td>\n",
       "      <td>6.3</td>\n",
       "      <td>4.8</td>\n",
       "      <td>4.8</td>\n",
       "      <td>https://dimg04.c-ctrip.com/images/10030m000000...</td>\n",
       "    </tr>\n",
       "  </tbody>\n",
       "</table>\n",
       "</div>"
      ],
      "text/plain": [
       "     names popularity scores links  \\\n",
       "115  南山滑雪场        6.5    4.7   4.7   \n",
       "116    潭柘寺        6.4    4.7   4.7   \n",
       "117  红砖美术馆        6.3    4.3   4.3   \n",
       "118  八大处公园        6.3    4.7   4.7   \n",
       "119  国家图书馆        6.3    4.8   4.8   \n",
       "\n",
       "                                                  imgs  \n",
       "115  https://dimg04.c-ctrip.com/images/100f0z000000...  \n",
       "116  https://dimg04.c-ctrip.com/images/100b1f000001...  \n",
       "117  https://dimg04.c-ctrip.com/images/100218000001...  \n",
       "118  https://dimg04.c-ctrip.com/images/100b1f000001...  \n",
       "119  https://dimg04.c-ctrip.com/images/10030m000000...  "
      ]
     },
     "execution_count": 7,
     "metadata": {},
     "output_type": "execute_result"
    }
   ],
   "source": [
    "df.tail()"
   ]
  },
  {
   "cell_type": "code",
   "execution_count": 8,
   "metadata": {},
   "outputs": [
    {
     "name": "stdout",
     "output_type": "stream",
     "text": [
      "Empty DataFrame\n",
      "Columns: [names, popularity, scores, links, imgs]\n",
      "Index: []\n"
     ]
    }
   ],
   "source": [
    "print(df.iloc[300:310])"
   ]
  },
  {
   "cell_type": "code",
   "execution_count": 10,
   "metadata": {},
   "outputs": [],
   "source": [
    "df.to_csv('../csv/sight_data.csv',index=False)"
   ]
  }
 ],
 "metadata": {
  "kernelspec": {
   "display_name": "web",
   "language": "python",
   "name": "python3"
  },
  "language_info": {
   "codemirror_mode": {
    "name": "ipython",
    "version": 3
   },
   "file_extension": ".py",
   "mimetype": "text/x-python",
   "name": "python",
   "nbconvert_exporter": "python",
   "pygments_lexer": "ipython3",
   "version": "3.9.6"
  },
  "orig_nbformat": 4
 },
 "nbformat": 4,
 "nbformat_minor": 2
}
