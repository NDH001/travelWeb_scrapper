{
 "cells": [
  {
   "cell_type": "code",
   "execution_count": 40,
   "metadata": {},
   "outputs": [],
   "source": [
    "import pandas as pd\n",
    "from requests_html import HTML,HTMLSession\n",
    "from helper_class import FuncOption \n",
    "import os"
   ]
  },
  {
   "cell_type": "code",
   "execution_count": 44,
   "metadata": {},
   "outputs": [
    {
     "name": "stdout",
     "output_type": "stream",
     "text": [
      "c:\\Users\\ZhiJun\\Desktop\\travelWeb\\scrapper\n"
     ]
    }
   ],
   "source": [
    "print(os.getcwd())"
   ]
  },
  {
   "cell_type": "code",
   "execution_count": 34,
   "metadata": {},
   "outputs": [],
   "source": [
    "df = pd.read_csv('cities_n_links.csv')"
   ]
  },
  {
   "cell_type": "code",
   "execution_count": 35,
   "metadata": {},
   "outputs": [
    {
     "data": {
      "text/html": [
       "<div>\n",
       "<style scoped>\n",
       "    .dataframe tbody tr th:only-of-type {\n",
       "        vertical-align: middle;\n",
       "    }\n",
       "\n",
       "    .dataframe tbody tr th {\n",
       "        vertical-align: top;\n",
       "    }\n",
       "\n",
       "    .dataframe thead th {\n",
       "        text-align: right;\n",
       "    }\n",
       "</style>\n",
       "<table border=\"1\" class=\"dataframe\">\n",
       "  <thead>\n",
       "    <tr style=\"text-align: right;\">\n",
       "      <th></th>\n",
       "      <th>city</th>\n",
       "      <th>links</th>\n",
       "    </tr>\n",
       "  </thead>\n",
       "  <tbody>\n",
       "    <tr>\n",
       "      <th>0</th>\n",
       "      <td>上海</td>\n",
       "      <td>https://you.ctrip.com/place/shanghai2.html</td>\n",
       "    </tr>\n",
       "    <tr>\n",
       "      <th>1</th>\n",
       "      <td>北京</td>\n",
       "      <td>https://you.ctrip.com/place/beijing1.html</td>\n",
       "    </tr>\n",
       "    <tr>\n",
       "      <th>2</th>\n",
       "      <td>天津</td>\n",
       "      <td>https://you.ctrip.com/place/tianjin154.html</td>\n",
       "    </tr>\n",
       "    <tr>\n",
       "      <th>3</th>\n",
       "      <td>重庆</td>\n",
       "      <td>https://you.ctrip.com/place/chongqing158.html</td>\n",
       "    </tr>\n",
       "    <tr>\n",
       "      <th>4</th>\n",
       "      <td>香港</td>\n",
       "      <td>https://you.ctrip.com/place/hongkong38.html</td>\n",
       "    </tr>\n",
       "  </tbody>\n",
       "</table>\n",
       "</div>"
      ],
      "text/plain": [
       "  city                                          links\n",
       "0   上海     https://you.ctrip.com/place/shanghai2.html\n",
       "1   北京      https://you.ctrip.com/place/beijing1.html\n",
       "2   天津    https://you.ctrip.com/place/tianjin154.html\n",
       "3   重庆  https://you.ctrip.com/place/chongqing158.html\n",
       "4   香港    https://you.ctrip.com/place/hongkong38.html"
      ]
     },
     "execution_count": 35,
     "metadata": {},
     "output_type": "execute_result"
    }
   ],
   "source": [
    "df.head()"
   ]
  },
  {
   "cell_type": "code",
   "execution_count": 36,
   "metadata": {},
   "outputs": [],
   "source": [
    "session = HTMLSession()"
   ]
  },
  {
   "cell_type": "code",
   "execution_count": 37,
   "metadata": {},
   "outputs": [],
   "source": [
    "r = session.get(df['links'][0])"
   ]
  },
  {
   "cell_type": "code",
   "execution_count": 38,
   "metadata": {},
   "outputs": [],
   "source": [
    "fo = FuncOption()\n",
    "sight = fo.sight_see(df)"
   ]
  },
  {
   "cell_type": "code",
   "execution_count": 39,
   "metadata": {},
   "outputs": [
    {
     "name": "stdout",
     "output_type": "stream",
     "text": [
      "     city                                              links\n",
      "0      上海         https://you.ctrip.com/place/shanghai2.html\n",
      "1      北京          https://you.ctrip.com/place/beijing1.html\n",
      "2      天津        https://you.ctrip.com/place/tianjin154.html\n",
      "3      重庆      https://you.ctrip.com/place/chongqing158.html\n",
      "4      香港        https://you.ctrip.com/place/hongkong38.html\n",
      "..    ...                                                ...\n",
      "736   大溪地        https://you.ctrip.com/place/tahiti1354.html\n",
      "737    派蒙    https://you.ctrip.com/place/pyrmont2126870.html\n",
      "738   达尔文         https://you.ctrip.com/place/darwin325.html\n",
      "739  特卡波湖   https://you.ctrip.com/place/laketekapo57959.html\n",
      "740   莎莉山  https://you.ctrip.com/place/surryhills2126966....\n",
      "\n",
      "[741 rows x 2 columns]\n"
     ]
    }
   ],
   "source": [
    "print(sight)"
   ]
  }
 ],
 "metadata": {
  "kernelspec": {
   "display_name": "web",
   "language": "python",
   "name": "python3"
  },
  "language_info": {
   "codemirror_mode": {
    "name": "ipython",
    "version": 3
   },
   "file_extension": ".py",
   "mimetype": "text/x-python",
   "name": "python",
   "nbconvert_exporter": "python",
   "pygments_lexer": "ipython3",
   "version": "3.9.6"
  },
  "orig_nbformat": 4
 },
 "nbformat": 4,
 "nbformat_minor": 2
}
